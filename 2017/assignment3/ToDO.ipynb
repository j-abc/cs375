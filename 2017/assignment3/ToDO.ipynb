{
 "cells": [
  {
   "cell_type": "markdown",
   "metadata": {},
   "source": [
    "Models construction:\n",
    "    LN (DONE)\n",
    "    CNN (DONE)\n",
    "    With a poisson loss function (DONE)\n",
    "    \n",
    "Train/test on each model:\n",
    "    White noise/ White Noise & Natural scenes\n",
    "    Natural scenes/ White Noise & Natural scenes\n",
    "\n",
    "Testing procedure:\n",
    "    Somehow get hte pearson correlation coefficient in here\n",
    "\n",
    "Save every 50 steps\n",
    "    implement agg func\n",
    "    agg func:\n",
    "        returns a dictionary \n",
    "            corr for white noise\n",
    "            corr for natural scenes\n",
    "from scipy.stats import pearsonr\n"
   ]
  },
  {
   "cell_type": "markdown",
   "metadata": {},
   "source": [
    "the ideal approach:\n",
    "    the aggunc does it on both at the same time\n",
    "\n",
    "a janky reasonable approach:\n",
    "    to do separate valid0, valid1 for each data provider (assuming that the dataprovider is where the separation happens)\n",
    "\n",
    "for both cases:\n",
    "    1] target function that we had the val_loss_wrapper in \n",
    "    2] setting up the agg_mean dictionary properly based on val_loss_wrapper keys\n"
   ]
  }
 ],
 "metadata": {
  "kernelspec": {
   "display_name": "Python 2",
   "language": "python",
   "name": "python2"
  },
  "language_info": {
   "codemirror_mode": {
    "name": "ipython",
    "version": 2
   },
   "file_extension": ".py",
   "mimetype": "text/x-python",
   "name": "python",
   "nbconvert_exporter": "python",
   "pygments_lexer": "ipython2",
   "version": "2.7.12"
  }
 },
 "nbformat": 4,
 "nbformat_minor": 0
}
