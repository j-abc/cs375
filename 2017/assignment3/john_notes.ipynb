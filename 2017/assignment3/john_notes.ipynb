{
 "cells": [
  {
   "cell_type": "code",
   "execution_count": 1,
   "metadata": {
    "collapsed": true
   },
   "outputs": [],
   "source": [
    "# movies: 50 x 50 with 40 frames... \n",
    "# labels: response of 5 off-type tiger salamander RGC responses recorded in the Baccus Lab"
   ]
  },
  {
   "cell_type": "markdown",
   "metadata": {},
   "source": [
    "datasets:\n",
    "    white noise\n",
    "        50 x 50 spatial checkers... 55um x 55 um on retina\n",
    "        ~250 um salamander ganglion cell rf center\n",
    "        323762 train\n",
    "        5957 test\n",
    "    natural scene\n",
    "        taken from [7]\n",
    "        40 frames\n",
    "        323756 train\n",
    "        5956 test\n",
    "    5 tiger RGCs. binned 10 ms. smoothed 10 ms Gaussian\n",
    "where to find these datasets?\n",
    "    /datasets/deepretina_data\n",
    "    tf_records/whitenoise\n",
    "    tf_records/naturalscence\n",
    "    format: TFRecord\n",
    "what is tfrecord?\n",
    "    images field\n",
    "        array data of actual images that rgc is shown (50 x 50 x 40)\n",
    "              float32\n",
    "    labels field\n",
    "        contains firing rate of 5 RGCs: float32\n",
    "    see https://www.tensorflow.org/api_guides/python/python_io \n",
    "    for further details\n",
    "how to load the retinal dataset into TFUtils\n",
    "    USE THE RETINATF DATA PROVIDER\n",
    "    train*: TFRecord file names in each dir\n",
    "    test*: TFRecord file names in each dir\n",
    " "
   ]
  },
  {
   "cell_type": "markdown",
   "metadata": {},
   "source": [
    "Network training\n",
    "    train on whitenoise\n",
    "        test on whitenoise and natural scene data\n",
    "    train on natural scene\n",
    "        test on whitenoise and natural scene data\n",
    "Models\n",
    "    LN model \n",
    "    3 layer CNN\n",
    "    Loss function\n",
    "        poisson loss funciton as a tfutils loss per case funciton\n",
    "\n",
    "\n",
    "TURN IN:\n",
    "    8 results:\n",
    "            two models\n",
    "            two training regimes\n",
    "    "
   ]
  },
  {
   "cell_type": "markdown",
   "metadata": {},
   "source": [
    "* LN\n",
    "* CNN\n",
    "* poisson\n",
    "* "
   ]
  }
 ],
 "metadata": {
  "kernelspec": {
   "display_name": "Python 2",
   "language": "python",
   "name": "python2"
  },
  "language_info": {
   "codemirror_mode": {
    "name": "ipython",
    "version": 2
   },
   "file_extension": ".py",
   "mimetype": "text/x-python",
   "name": "python",
   "nbconvert_exporter": "python",
   "pygments_lexer": "ipython2",
   "version": "2.7.12"
  }
 },
 "nbformat": 4,
 "nbformat_minor": 0
}
