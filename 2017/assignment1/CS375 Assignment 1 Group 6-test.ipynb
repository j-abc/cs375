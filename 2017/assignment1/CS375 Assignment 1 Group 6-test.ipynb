{
 "cells": [
  {
   "cell_type": "markdown",
   "metadata": {},
   "source": [
    "# CS375 - Assignment 1\n",
    "#### Group 6 "
   ]
  },
  {
   "cell_type": "markdown",
   "metadata": {},
   "source": [
    "## Part 1: ImageNet training and testing"
   ]
  },
  {
   "cell_type": "code",
   "execution_count": 1,
   "metadata": {
    "collapsed": true
   },
   "outputs": [],
   "source": [
    "%matplotlib inline \n",
    "import os\n",
    "import numpy as np\n",
    "import tensorflow as tf\n",
    "import pymongo as pm\n",
    "import gridfs\n",
    "import cPickle\n",
    "import scipy.signal as signal\n",
    "import matplotlib.pyplot as plt\n",
    "from tqdm import tqdm_notebook, trange"
   ]
  },
  {
   "cell_type": "markdown",
   "metadata": {},
   "source": [
    "### Getting data from the database\n",
    "Let's connect to the database and pull the data training and test data that is stored while training our network.\n",
    "In order to find the right experiment id, it is useful to display which experiments are stored in the database first."
   ]
  },
  {
   "cell_type": "code",
   "execution_count": 2,
   "metadata": {
    "collapsed": false
   },
   "outputs": [
    {
     "name": "stdout",
     "output_type": "stream",
     "text": [
      "[u'experiment_1']\n"
     ]
    }
   ],
   "source": [
    "# connect to database\n",
    "dbname = 'imagenet'\n",
    "collname = 'alexnet' # TODO need to iterate for other nets in pt. 1\n",
    "port = 24444\n",
    "\n",
    "conn = pm.MongoClient(port = port)\n",
    "coll = conn[dbname][collname + '.files']\n",
    "\n",
    "# print out saved experiments in collection coll\n",
    "print(coll.distinct('exp_id'))"
   ]
  },
  {
   "cell_type": "markdown",
   "metadata": {},
   "source": [
    "### Plotting the training curve\n",
    "To see the training curve for the experiment, we pull the training loss and plot it, along with a smoothed version of the training loss obtained by convolving the loss with a boxcar."
   ]
  },
  {
   "cell_type": "code",
   "execution_count": null,
   "metadata": {
    "collapsed": false
   },
   "outputs": [],
   "source": [
    "def get_losses(exp_id):\n",
    "    \"\"\"\n",
    "    Gets all loss entries from the database and concatenates them into a vector\n",
    "    \"\"\"\n",
    "    q_train = {'exp_id' : exp_id, 'train_results' : {'$exists' : True}}\n",
    "    return np.array([_r['loss'] \n",
    "                     for r in coll.find(q_train, projection = ['train_results']) \n",
    "                     for _r in r['train_results']])\n",
    "\n",
    "\n",
    "def get_boxcar(num_pts, total_length):\n",
    "    my_ones = np.ones(num_pts)/num_pts\n",
    "    return np.hstack([my_ones])\n",
    "\n",
    "ydict = {}\n",
    "ydict['losses'] = get_losses('experiment_1')\n",
    "smoothing_num = 100;\n",
    "my_box = get_boxcar(smoothing_num, losses.shape[0])\n",
    "ydict['smooth' + str(smoothing_num)] = signal.convolve(ydict['losses'],my_box)\n",
    "\n",
    "plt.plot(ydict['losses'], color=\"blue\")\n",
    "plt.xlabel(\"Iteration\")\n",
    "plt.ylabel(\"Training Loss\")\n",
    "plt.title(\"Experiment 1: Training Loss vs. Iteration\")\n",
    "plt.grid()\n"
   ]
  },
  {
   "cell_type": "code",
   "execution_count": null,
   "metadata": {
    "collapsed": false
   },
   "outputs": [],
   "source": [
    "plt.plot(ydict['smooth' + str(smoothing_num)], color=\"blue\")\n",
    "plt.xlabel(\"Iteration\")\n",
    "plt.ylabel(\"Training Loss\")\n",
    "plt.title(\"Experiment 1: Smoothed Training Loss vs. Iteration\")\n",
    "plt.grid()\n"
   ]
  },
  {
   "cell_type": "markdown",
   "metadata": {},
   "source": [
    "Smoothed plot of training loss. Please note that the bump at around iteration 80,000 is due to having to recover the model and resume training after a gcloud crash."
   ]
  },
  {
   "cell_type": "markdown",
   "metadata": {},
   "source": [
    "### Plotting the validation results\n",
    "After our train_imagenet function has evaluated the Image Net validation set for the time we can have a look at the validation results of for example exp_id='experiment_1'. Again, you need to pull the validation data from the database first. The validation data consists of the top1 and top5 accuracy that you have implemented previously. \n",
    "\n",
    "We have provided a function that pulls the necessary data from the database. Your task is to plot the validation curve of the top1 and top5 accuracy. Label the graphs respectively and describe what you see."
   ]
  },
  {
   "cell_type": "code",
   "execution_count": null,
   "metadata": {
    "collapsed": false
   },
   "outputs": [],
   "source": [
    "def get_validation_data(exp_id):\n",
    "    \"\"\"\n",
    "    Gets the validation data from the database (except for gridfs data)\n",
    "    \"\"\"\n",
    "    q_val = {'exp_id' : exp_id, 'validation_results' : {'$exists' : True}, 'validates' : {'$exists' : False}}\n",
    "    val_steps = coll.find(q_val, projection = ['validation_results'])\n",
    "    top1 = [val_steps[i]['validation_results']['topn_val']['top1'] \n",
    "            for i in range(val_steps.count())]\n",
    "    top5 = [val_steps[i]['validation_results']['topn_val']['top5'] \n",
    "            for i in range(val_steps.count())]\n",
    "    return top1, top5\n",
    "\n",
    "### PLOT VALIDATION RESULTS HERE\n",
    "top1, top5 = get_validation_data('experiment_1')\n",
    "fig1 = plt.figure()\n",
    "ax1 = fig1.add_subplot(111)\n",
    "plt.xlabel(\"Step\")\n",
    "plt.ylabel(\"Accuracy\")\n",
    "plt.title(\"Experiment 1 - Top1: Accuracy vs. Step\")\n",
    "plt.grid()\n",
    "ax1.plot(top1)\n",
    "\n",
    "fig2 = plt.figure()\n",
    "ax2 = fig2.add_subplot(111)\n",
    "plt.xlabel(\"Step\")\n",
    "plt.ylabel(\"Accuracy\")\n",
    "plt.title(\"Experiment 1 - Top5: Accuracy vs. Step\")\n",
    "plt.grid()\n",
    "ax2.plot(top5)\n"
   ]
  },
  {
   "cell_type": "markdown",
   "metadata": {},
   "source": [
    "## Neural analysis\n",
    "Now let's move on to fetching and displaying the computations and tests that you ran in the neural_analysis agg_func. We will first pull the data which was stored in the validation results in the database. Therefore, we call the function 'get_neural_validation_data'. The returned 'validation_data' is a list of dictionaries that contain your validation results. It's keys contain amongst others the 'exp_id' of your experiment, the evaluated 'step', and the actual 'validation_results'. In part 2 of this assignment, you should have evaluated your model at different iteration steps.\n",
    "\n",
    "In the following, your task will be to plot your evaluations at different iteration steps. Therefore, index the data list with the appropriate indices, plot the results and mark all of the following plots with the iteration step."
   ]
  },
  {
   "cell_type": "code",
   "execution_count": null,
   "metadata": {
    "collapsed": true
   },
   "outputs": [],
   "source": [
    "def get_neural_validation_data(exp_id):\n",
    "    "
   ]
  },
  {
   "cell_type": "code",
   "execution_count": 5,
   "metadata": {
    "collapsed": false
   },
   "outputs": [],
   "source": [
    "exp_id = 'experiment_1'\n",
    "q_val = {'exp_id' : exp_id, 'validation_results' : {'$exists' : True}, 'validates': {'$exists' : True}}\n",
    "val_steps = coll.find(q_val, projection = ['validation_results', 'validates', 'exp_id'])"
   ]
  },
  {
   "cell_type": "code",
   "execution_count": 8,
   "metadata": {
    "collapsed": false
   },
   "outputs": [],
   "source": [
    "results = [val_steps[i] for i in range(val_steps.count())]"
   ]
  },
  {
   "cell_type": "code",
   "execution_count": 26,
   "metadata": {
    "collapsed": false
   },
   "outputs": [
    {
     "data": {
      "text/plain": [
       "{u'_id': ObjectId('59e09bc0d4fdab1c6991748d'),\n",
       " u'_saver_num_data_files': 1,\n",
       " u'_saver_write_version': 2,\n",
       " u'chunkSize': 261120,\n",
       " u'duration': 1.7959988117218018,\n",
       " u'exp_id': u'experiment_1',\n",
       " u'filename': u'/home/cocjinjb/.tfutils/localhost:24444/imagenet/alexnet/experiment_1/checkpoint-60000.tar',\n",
       " u'length': 912128000,\n",
       " u'md5': u'88ea4b5fd92f30b824aa297a3f4e1a57',\n",
       " u'params': {u'dont_run': False,\n",
       "  u'inter_op_parallelism_threads': 40,\n",
       "  u'learning_rate_params': {u'boundaries': [150000, 300000, 450000],\n",
       "   u'func': {u'active_branch': u'john',\n",
       "    u'active_branch_in_origin': True,\n",
       "    u'clean': False,\n",
       "    u'commit': u'afaf5719c9b6c8758b63c086e654076e881d4f5d',\n",
       "    u'commit_in_log': True,\n",
       "    u'git_dir': u'/home/cocjinjb/cs375/.git',\n",
       "    u'modname': u'__main__',\n",
       "    u'objname': u'piecewise_constant_wrapper',\n",
       "    u'remote_urls': [u'https://github.com/j-abc/cs375.git'],\n",
       "    u'source_path': u'train_imagenet.py'},\n",
       "   u'values': [0.01, 0.005, 0.001, 0.0005]},\n",
       "  u'load_params': {u'collname': u'alexnet',\n",
       "   u'dbname': u'imagenet',\n",
       "   u'do_restore': False,\n",
       "   u'exp_id': u'experiment_1',\n",
       "   u'host': u'localhost',\n",
       "   u'load_query': None,\n",
       "   u'port': 24444},\n",
       "  u'log_device_placement': False,\n",
       "  u'loss_params': {u'agg_func': {u'modname': u'tensorflow.python.ops.math_ops',\n",
       "    u'objname': u'reduce_mean',\n",
       "    u'source_path': u'/usr/local/lib/python2.7/dist-packages/tensorflow/python/ops/math_ops.py',\n",
       "    u'version': None},\n",
       "   u'loss_func_kwargs': {},\n",
       "   u'loss_per_case_func': {u'active_branch': u'john',\n",
       "    u'active_branch_in_origin': True,\n",
       "    u'clean': False,\n",
       "    u'commit': u'afaf5719c9b6c8758b63c086e654076e881d4f5d',\n",
       "    u'commit_in_log': True,\n",
       "    u'git_dir': u'/home/cocjinjb/cs375/.git',\n",
       "    u'modname': u'__main__',\n",
       "    u'objname': u'loss_per_case_func',\n",
       "    u'remote_urls': [u'https://github.com/j-abc/cs375.git'],\n",
       "    u'source_path': u'train_imagenet.py'},\n",
       "   u'loss_per_case_func_params': {u'_outputs': u'outputs',\n",
       "    u'_targets_$all': u'inputs'},\n",
       "   u'targets': [u'labels']},\n",
       "  u'model_params': {u'cfg_final': {},\n",
       "   u'devices': [u'/gpu:0'],\n",
       "   u'func': {u'active_branch': u'john',\n",
       "    u'active_branch_in_origin': True,\n",
       "    u'clean': False,\n",
       "    u'commit': u'afaf5719c9b6c8758b63c086e654076e881d4f5d',\n",
       "    u'commit_in_log': True,\n",
       "    u'git_dir': u'/home/cocjinjb/cs375/.git',\n",
       "    u'modname': u'models',\n",
       "    u'objname': u'alexnet_model',\n",
       "    u'remote_urls': [u'https://github.com/j-abc/cs375.git'],\n",
       "    u'source_path': u'/home/cocjinjb/cs375/2017/assignment1/models.py'},\n",
       "   u'num_gpus': 1,\n",
       "   u'prefix': u'model_0',\n",
       "   u'seed': 0,\n",
       "   u'train': True},\n",
       "  u'optimizer_params': {u'clip': False,\n",
       "   u'func': {u'active_branch': u'master',\n",
       "    u'active_branch_in_origin': True,\n",
       "    u'clean': False,\n",
       "    u'commit': u'a9da4d0d88053428c515a37d48840a450eb8d710',\n",
       "    u'commit_in_log': False,\n",
       "    u'git_dir': u'/python_packages/tfutils/.git',\n",
       "    u'modname': u'tfutils.optimizer',\n",
       "    u'objname': u'ClipOptimizer',\n",
       "    u'remote_urls': [u'https://github.com/neuroailab/tfutils.git'],\n",
       "    u'source_path': u'/python_packages/tfutils/tfutils/optimizer.py'},\n",
       "   u'momentum': 0.9,\n",
       "   u'optimizer_class': {u'modname': u'tensorflow.python.training.momentum',\n",
       "    u'objname': u'MomentumOptimizer',\n",
       "    u'source_path': u'/usr/local/lib/python2.7/dist-packages/tensorflow/python/training/momentum.py',\n",
       "    u'version': None}},\n",
       "  u'save_params': {u'cache_filters_freq': 50000,\n",
       "   u'collname': u'alexnet',\n",
       "   u'dbname': u'imagenet',\n",
       "   u'exp_id': u'experiment_1',\n",
       "   u'host': u'localhost',\n",
       "   u'port': 24444,\n",
       "   u'save_filters_freq': 30000,\n",
       "   u'save_initial_filters': False,\n",
       "   u'save_metrics_freq': 200,\n",
       "   u'save_to_gfs': [],\n",
       "   u'save_valid_freq': 10000},\n",
       "  u'skip_check': False,\n",
       "  u'train_params': {u'data_params': {u'batch_size': 256,\n",
       "    u'crop_size': 227,\n",
       "    u'data_path': u'/datasets/TFRecord_Imagenet_standard',\n",
       "    u'file_grab_func': {u'active_branch': u'john',\n",
       "     u'active_branch_in_origin': True,\n",
       "     u'clean': False,\n",
       "     u'commit': u'afaf5719c9b6c8758b63c086e654076e881d4f5d',\n",
       "     u'commit_in_log': True,\n",
       "     u'git_dir': u'/home/cocjinjb/cs375/.git',\n",
       "     u'modname': u'__main__',\n",
       "     u'objname': u'subselect_tfrecords',\n",
       "     u'remote_urls': [u'https://github.com/j-abc/cs375.git'],\n",
       "     u'source_path': u'train_imagenet.py'},\n",
       "    u'file_pattern': u'train*.tfrecords',\n",
       "    u'func': {u'active_branch': u'john',\n",
       "     u'active_branch_in_origin': True,\n",
       "     u'clean': False,\n",
       "     u'commit': u'afaf5719c9b6c8758b63c086e654076e881d4f5d',\n",
       "     u'commit_in_log': True,\n",
       "     u'git_dir': u'/home/cocjinjb/cs375/.git',\n",
       "     u'modname': u'dataprovider',\n",
       "     u'objname': u'ImageNetDataProvider',\n",
       "     u'remote_urls': [u'https://github.com/j-abc/cs375.git'],\n",
       "     u'source_path': u'/home/cocjinjb/cs375/2017/assignment1/dataprovider.py'},\n",
       "    u'group': u'train',\n",
       "    u'n_threads': 4,\n",
       "    u'shuffle': False,\n",
       "    u'shuffle_seed': 6},\n",
       "   u'minibatch_size': 256,\n",
       "   u'num_minibatches': 1,\n",
       "   u'num_steps': 450360,\n",
       "   u'queue_params': {u'batch_size': 256,\n",
       "    u'capacity': 2560,\n",
       "    u'min_after_dequeue': 1280,\n",
       "    u'queue_type': u'random',\n",
       "    u'seed': 6},\n",
       "   u'targets': {u'func': {u'active_branch': u'john',\n",
       "     u'active_branch_in_origin': True,\n",
       "     u'clean': False,\n",
       "     u'commit': u'afaf5719c9b6c8758b63c086e654076e881d4f5d',\n",
       "     u'commit_in_log': True,\n",
       "     u'git_dir': u'/home/cocjinjb/cs375/.git',\n",
       "     u'modname': u'__main__',\n",
       "     u'objname': u'return_outputs',\n",
       "     u'remote_urls': [u'https://github.com/j-abc/cs375.git'],\n",
       "     u'source_path': u'train_imagenet.py'},\n",
       "    u'targets': []},\n",
       "   u'thres_loss': 1000,\n",
       "   u'train_loop': {u'func': {u'active_branch': u'master',\n",
       "     u'active_branch_in_origin': True,\n",
       "     u'clean': False,\n",
       "     u'commit': u'a9da4d0d88053428c515a37d48840a450eb8d710',\n",
       "     u'commit_in_log': False,\n",
       "     u'git_dir': u'/python_packages/tfutils/.git',\n",
       "     u'modname': u'tfutils.base',\n",
       "     u'objname': u'train_loop',\n",
       "     u'remote_urls': [u'https://github.com/neuroailab/tfutils.git'],\n",
       "     u'source_path': u'/python_packages/tfutils/tfutils/base.py'}},\n",
       "   u'validate_first': False},\n",
       "  u'validation_params': {u'topn_val': {u'agg_func': {u'active_branch': u'john',\n",
       "     u'active_branch_in_origin': True,\n",
       "     u'clean': False,\n",
       "     u'commit': u'afaf5719c9b6c8758b63c086e654076e881d4f5d',\n",
       "     u'commit_in_log': True,\n",
       "     u'git_dir': u'/home/cocjinjb/cs375/.git',\n",
       "     u'modname': u'__main__',\n",
       "     u'objname': u'agg_mean',\n",
       "     u'remote_urls': [u'https://github.com/j-abc/cs375.git'],\n",
       "     u'source_path': u'train_imagenet.py'},\n",
       "    u'data_params': {u'batch_size': 256,\n",
       "     u'crop_size': 227,\n",
       "     u'data_path': u'/datasets/TFRecord_Imagenet_standard',\n",
       "     u'file_grab_func': {u'active_branch': u'john',\n",
       "      u'active_branch_in_origin': True,\n",
       "      u'clean': False,\n",
       "      u'commit': u'afaf5719c9b6c8758b63c086e654076e881d4f5d',\n",
       "      u'commit_in_log': True,\n",
       "      u'git_dir': u'/home/cocjinjb/cs375/.git',\n",
       "      u'modname': u'__main__',\n",
       "      u'objname': u'subselect_tfrecords',\n",
       "      u'remote_urls': [u'https://github.com/j-abc/cs375.git'],\n",
       "      u'source_path': u'train_imagenet.py'},\n",
       "     u'file_pattern': u'validation*.tfrecords',\n",
       "     u'func': {u'active_branch': u'john',\n",
       "      u'active_branch_in_origin': True,\n",
       "      u'clean': False,\n",
       "      u'commit': u'afaf5719c9b6c8758b63c086e654076e881d4f5d',\n",
       "      u'commit_in_log': True,\n",
       "      u'git_dir': u'/home/cocjinjb/cs375/.git',\n",
       "      u'modname': u'dataprovider',\n",
       "      u'objname': u'ImageNetDataProvider',\n",
       "      u'remote_urls': [u'https://github.com/j-abc/cs375.git'],\n",
       "      u'source_path': u'/home/cocjinjb/cs375/2017/assignment1/dataprovider.py'},\n",
       "     u'group': u'val',\n",
       "     u'n_threads': 4,\n",
       "     u'shuffle': False,\n",
       "     u'shuffle_seed': 6},\n",
       "    u'num_steps': 195,\n",
       "    u'online_agg_func': {u'active_branch': u'john',\n",
       "     u'active_branch_in_origin': True,\n",
       "     u'clean': False,\n",
       "     u'commit': u'afaf5719c9b6c8758b63c086e654076e881d4f5d',\n",
       "     u'commit_in_log': True,\n",
       "     u'git_dir': u'/home/cocjinjb/cs375/.git',\n",
       "     u'modname': u'__main__',\n",
       "     u'objname': u'online_agg_mean',\n",
       "     u'remote_urls': [u'https://github.com/j-abc/cs375.git'],\n",
       "     u'source_path': u'train_imagenet.py'},\n",
       "    u'queue_params': {u'batch_size': 256,\n",
       "     u'capacity': 2560,\n",
       "     u'min_after_dequeue': 1280,\n",
       "     u'queue_type': u'fifo',\n",
       "     u'seed': 6},\n",
       "    u'targets': {u'func': {u'active_branch': u'john',\n",
       "      u'active_branch_in_origin': True,\n",
       "      u'clean': False,\n",
       "      u'commit': u'afaf5719c9b6c8758b63c086e654076e881d4f5d',\n",
       "      u'commit_in_log': True,\n",
       "      u'git_dir': u'/home/cocjinjb/cs375/.git',\n",
       "      u'modname': u'__main__',\n",
       "      u'objname': u'in_top_k',\n",
       "      u'remote_urls': [u'https://github.com/j-abc/cs375.git'],\n",
       "      u'source_path': u'train_imagenet.py'}},\n",
       "    u'valid_loop': {u'func': None}}}},\n",
       " u'saved_filters': True,\n",
       " u'step': 60000,\n",
       " u'train_results': [{u'learning_rate': 0.009999999776482582,\n",
       "   u'loss': 2.4408342838287354},\n",
       "  {u'learning_rate': 0.009999999776482582, u'loss': 2.4832334518432617},\n",
       "  {u'learning_rate': 0.009999999776482582, u'loss': 2.266921043395996},\n",
       "  {u'learning_rate': 0.009999999776482582, u'loss': 2.3193705081939697},\n",
       "  {u'learning_rate': 0.009999999776482582, u'loss': 2.6516425609588623},\n",
       "  {u'learning_rate': 0.009999999776482582, u'loss': 2.5312705039978027},\n",
       "  {u'learning_rate': 0.009999999776482582, u'loss': 2.4325978755950928},\n",
       "  {u'learning_rate': 0.009999999776482582, u'loss': 2.2800543308258057},\n",
       "  {u'learning_rate': 0.009999999776482582, u'loss': 2.490562915802002},\n",
       "  {u'learning_rate': 0.009999999776482582, u'loss': 2.416350841522217},\n",
       "  {u'learning_rate': 0.009999999776482582, u'loss': 2.465895175933838},\n",
       "  {u'learning_rate': 0.009999999776482582, u'loss': 2.4165689945220947},\n",
       "  {u'learning_rate': 0.009999999776482582, u'loss': 2.4422037601470947},\n",
       "  {u'learning_rate': 0.009999999776482582, u'loss': 2.3531153202056885},\n",
       "  {u'learning_rate': 0.009999999776482582, u'loss': 2.0950231552124023},\n",
       "  {u'learning_rate': 0.009999999776482582, u'loss': 2.308225631713867},\n",
       "  {u'learning_rate': 0.009999999776482582, u'loss': 2.2825958728790283},\n",
       "  {u'learning_rate': 0.009999999776482582, u'loss': 2.258821725845337},\n",
       "  {u'learning_rate': 0.009999999776482582, u'loss': 2.5049710273742676},\n",
       "  {u'learning_rate': 0.009999999776482582, u'loss': 2.2962517738342285},\n",
       "  {u'learning_rate': 0.009999999776482582, u'loss': 2.594083786010742},\n",
       "  {u'learning_rate': 0.009999999776482582, u'loss': 2.2814083099365234},\n",
       "  {u'learning_rate': 0.009999999776482582, u'loss': 2.333418846130371},\n",
       "  {u'learning_rate': 0.009999999776482582, u'loss': 2.585749626159668},\n",
       "  {u'learning_rate': 0.009999999776482582, u'loss': 2.1246337890625},\n",
       "  {u'learning_rate': 0.009999999776482582, u'loss': 2.6620309352874756},\n",
       "  {u'learning_rate': 0.009999999776482582, u'loss': 2.480248212814331},\n",
       "  {u'learning_rate': 0.009999999776482582, u'loss': 2.417818784713745},\n",
       "  {u'learning_rate': 0.009999999776482582, u'loss': 2.3942012786865234},\n",
       "  {u'learning_rate': 0.009999999776482582, u'loss': 2.371300458908081},\n",
       "  {u'learning_rate': 0.009999999776482582, u'loss': 2.1074166297912598},\n",
       "  {u'learning_rate': 0.009999999776482582, u'loss': 2.15317702293396},\n",
       "  {u'learning_rate': 0.009999999776482582, u'loss': 2.3795599937438965},\n",
       "  {u'learning_rate': 0.009999999776482582, u'loss': 2.3857271671295166},\n",
       "  {u'learning_rate': 0.009999999776482582, u'loss': 2.329662322998047},\n",
       "  {u'learning_rate': 0.009999999776482582, u'loss': 2.2518491744995117},\n",
       "  {u'learning_rate': 0.009999999776482582, u'loss': 2.4780240058898926},\n",
       "  {u'learning_rate': 0.009999999776482582, u'loss': 2.313356399536133},\n",
       "  {u'learning_rate': 0.009999999776482582, u'loss': 2.885592222213745},\n",
       "  {u'learning_rate': 0.009999999776482582, u'loss': 2.3502137660980225},\n",
       "  {u'learning_rate': 0.009999999776482582, u'loss': 2.404778480529785},\n",
       "  {u'learning_rate': 0.009999999776482582, u'loss': 2.39850115776062},\n",
       "  {u'learning_rate': 0.009999999776482582, u'loss': 2.1175479888916016},\n",
       "  {u'learning_rate': 0.009999999776482582, u'loss': 2.4946556091308594},\n",
       "  {u'learning_rate': 0.009999999776482582, u'loss': 2.395501136779785},\n",
       "  {u'learning_rate': 0.009999999776482582, u'loss': 2.5908453464508057},\n",
       "  {u'learning_rate': 0.009999999776482582, u'loss': 2.3919785022735596},\n",
       "  {u'learning_rate': 0.009999999776482582, u'loss': 2.4415030479431152},\n",
       "  {u'learning_rate': 0.009999999776482582, u'loss': 2.6678924560546875},\n",
       "  {u'learning_rate': 0.009999999776482582, u'loss': 2.2292661666870117},\n",
       "  {u'learning_rate': 0.009999999776482582, u'loss': 2.635787010192871},\n",
       "  {u'learning_rate': 0.009999999776482582, u'loss': 2.3486409187316895},\n",
       "  {u'learning_rate': 0.009999999776482582, u'loss': 2.486757755279541},\n",
       "  {u'learning_rate': 0.009999999776482582, u'loss': 2.2337486743927},\n",
       "  {u'learning_rate': 0.009999999776482582, u'loss': 2.3700456619262695},\n",
       "  {u'learning_rate': 0.009999999776482582, u'loss': 2.1632890701293945},\n",
       "  {u'learning_rate': 0.009999999776482582, u'loss': 2.460082769393921},\n",
       "  {u'learning_rate': 0.009999999776482582, u'loss': 2.410566568374634},\n",
       "  {u'learning_rate': 0.009999999776482582, u'loss': 2.34523344039917},\n",
       "  {u'learning_rate': 0.009999999776482582, u'loss': 2.386779308319092},\n",
       "  {u'learning_rate': 0.009999999776482582, u'loss': 2.3273963928222656},\n",
       "  {u'learning_rate': 0.009999999776482582, u'loss': 2.2157626152038574},\n",
       "  {u'learning_rate': 0.009999999776482582, u'loss': 2.56620192527771},\n",
       "  {u'learning_rate': 0.009999999776482582, u'loss': 2.4367988109588623},\n",
       "  {u'learning_rate': 0.009999999776482582, u'loss': 2.5776824951171875},\n",
       "  {u'learning_rate': 0.009999999776482582, u'loss': 2.48516583442688},\n",
       "  {u'learning_rate': 0.009999999776482582, u'loss': 2.3729329109191895},\n",
       "  {u'learning_rate': 0.009999999776482582, u'loss': 2.175262689590454},\n",
       "  {u'learning_rate': 0.009999999776482582, u'loss': 2.516418695449829},\n",
       "  {u'learning_rate': 0.009999999776482582, u'loss': 2.5935986042022705},\n",
       "  {u'learning_rate': 0.009999999776482582, u'loss': 2.0862956047058105},\n",
       "  {u'learning_rate': 0.009999999776482582, u'loss': 2.317167043685913},\n",
       "  {u'learning_rate': 0.009999999776482582, u'loss': 2.239436388015747},\n",
       "  {u'learning_rate': 0.009999999776482582, u'loss': 2.417724847793579},\n",
       "  {u'learning_rate': 0.009999999776482582, u'loss': 2.371237277984619},\n",
       "  {u'learning_rate': 0.009999999776482582, u'loss': 2.1269724369049072},\n",
       "  {u'learning_rate': 0.009999999776482582, u'loss': 2.3377583026885986},\n",
       "  {u'learning_rate': 0.009999999776482582, u'loss': 2.339960813522339},\n",
       "  {u'learning_rate': 0.009999999776482582, u'loss': 2.38984751701355},\n",
       "  {u'learning_rate': 0.009999999776482582, u'loss': 2.717360496520996},\n",
       "  {u'learning_rate': 0.009999999776482582, u'loss': 2.3291826248168945},\n",
       "  {u'learning_rate': 0.009999999776482582, u'loss': 2.561476230621338},\n",
       "  {u'learning_rate': 0.009999999776482582, u'loss': 2.5230090618133545},\n",
       "  {u'learning_rate': 0.009999999776482582, u'loss': 2.6641297340393066},\n",
       "  {u'learning_rate': 0.009999999776482582, u'loss': 2.3748888969421387},\n",
       "  {u'learning_rate': 0.009999999776482582, u'loss': 2.1245529651641846},\n",
       "  {u'learning_rate': 0.009999999776482582, u'loss': 2.4706804752349854},\n",
       "  {u'learning_rate': 0.009999999776482582, u'loss': 2.242213726043701},\n",
       "  {u'learning_rate': 0.009999999776482582, u'loss': 2.4003398418426514},\n",
       "  {u'learning_rate': 0.009999999776482582, u'loss': 2.5252838134765625},\n",
       "  {u'learning_rate': 0.009999999776482582, u'loss': 2.5043563842773438},\n",
       "  {u'learning_rate': 0.009999999776482582, u'loss': 2.3602356910705566},\n",
       "  {u'learning_rate': 0.009999999776482582, u'loss': 2.1317813396453857},\n",
       "  {u'learning_rate': 0.009999999776482582, u'loss': 2.4277565479278564},\n",
       "  {u'learning_rate': 0.009999999776482582, u'loss': 2.6349310874938965},\n",
       "  {u'learning_rate': 0.009999999776482582, u'loss': 2.1823606491088867},\n",
       "  {u'learning_rate': 0.009999999776482582, u'loss': 2.37152099609375},\n",
       "  {u'learning_rate': 0.009999999776482582, u'loss': 2.196152687072754},\n",
       "  {u'learning_rate': 0.009999999776482582, u'loss': 2.4124703407287598},\n",
       "  {u'learning_rate': 0.009999999776482582, u'loss': 2.5675716400146484},\n",
       "  {u'learning_rate': 0.009999999776482582, u'loss': 2.5481247901916504},\n",
       "  {u'learning_rate': 0.009999999776482582, u'loss': 2.6309001445770264},\n",
       "  {u'learning_rate': 0.009999999776482582, u'loss': 2.4161806106567383},\n",
       "  {u'learning_rate': 0.009999999776482582, u'loss': 2.241015911102295},\n",
       "  {u'learning_rate': 0.009999999776482582, u'loss': 2.478804111480713},\n",
       "  {u'learning_rate': 0.009999999776482582, u'loss': 2.436697483062744},\n",
       "  {u'learning_rate': 0.009999999776482582, u'loss': 2.2700183391571045},\n",
       "  {u'learning_rate': 0.009999999776482582, u'loss': 2.3631060123443604},\n",
       "  {u'learning_rate': 0.009999999776482582, u'loss': 2.1234405040740967},\n",
       "  {u'learning_rate': 0.009999999776482582, u'loss': 2.3246548175811768},\n",
       "  {u'learning_rate': 0.009999999776482582, u'loss': 2.5912160873413086},\n",
       "  {u'learning_rate': 0.009999999776482582, u'loss': 2.4457743167877197},\n",
       "  {u'learning_rate': 0.009999999776482582, u'loss': 2.4220833778381348},\n",
       "  {u'learning_rate': 0.009999999776482582, u'loss': 2.4449880123138428},\n",
       "  {u'learning_rate': 0.009999999776482582, u'loss': 2.568596363067627},\n",
       "  {u'learning_rate': 0.009999999776482582, u'loss': 2.4461913108825684},\n",
       "  {u'learning_rate': 0.009999999776482582, u'loss': 2.379988193511963},\n",
       "  {u'learning_rate': 0.009999999776482582, u'loss': 2.593109130859375},\n",
       "  {u'learning_rate': 0.009999999776482582, u'loss': 2.2094993591308594},\n",
       "  {u'learning_rate': 0.009999999776482582, u'loss': 2.3157243728637695},\n",
       "  {u'learning_rate': 0.009999999776482582, u'loss': 2.1633152961730957},\n",
       "  {u'learning_rate': 0.009999999776482582, u'loss': 2.193718433380127},\n",
       "  {u'learning_rate': 0.009999999776482582, u'loss': 2.168670177459717},\n",
       "  {u'learning_rate': 0.009999999776482582, u'loss': 2.430372953414917},\n",
       "  {u'learning_rate': 0.009999999776482582, u'loss': 2.4331462383270264},\n",
       "  {u'learning_rate': 0.009999999776482582, u'loss': 2.2812368869781494},\n",
       "  {u'learning_rate': 0.009999999776482582, u'loss': 2.498873710632324},\n",
       "  {u'learning_rate': 0.009999999776482582, u'loss': 2.193560838699341},\n",
       "  {u'learning_rate': 0.009999999776482582, u'loss': 2.415058135986328},\n",
       "  {u'learning_rate': 0.009999999776482582, u'loss': 2.325104236602783},\n",
       "  {u'learning_rate': 0.009999999776482582, u'loss': 2.360823392868042},\n",
       "  {u'learning_rate': 0.009999999776482582, u'loss': 2.62435245513916},\n",
       "  {u'learning_rate': 0.009999999776482582, u'loss': 2.385509967803955},\n",
       "  {u'learning_rate': 0.009999999776482582, u'loss': 2.696962356567383},\n",
       "  {u'learning_rate': 0.009999999776482582, u'loss': 2.3141653537750244},\n",
       "  {u'learning_rate': 0.009999999776482582, u'loss': 2.373563766479492},\n",
       "  {u'learning_rate': 0.009999999776482582, u'loss': 2.5296437740325928},\n",
       "  {u'learning_rate': 0.009999999776482582, u'loss': 2.341402769088745},\n",
       "  {u'learning_rate': 0.009999999776482582, u'loss': 2.3638737201690674},\n",
       "  {u'learning_rate': 0.009999999776482582, u'loss': 2.4232542514801025},\n",
       "  {u'learning_rate': 0.009999999776482582, u'loss': 2.4323339462280273},\n",
       "  {u'learning_rate': 0.009999999776482582, u'loss': 2.06066632270813},\n",
       "  {u'learning_rate': 0.009999999776482582, u'loss': 2.1985490322113037},\n",
       "  {u'learning_rate': 0.009999999776482582, u'loss': 2.225722312927246},\n",
       "  {u'learning_rate': 0.009999999776482582, u'loss': 2.3159492015838623},\n",
       "  {u'learning_rate': 0.009999999776482582, u'loss': 2.5030364990234375},\n",
       "  {u'learning_rate': 0.009999999776482582, u'loss': 2.3560984134674072},\n",
       "  {u'learning_rate': 0.009999999776482582, u'loss': 2.5384457111358643},\n",
       "  {u'learning_rate': 0.009999999776482582, u'loss': 2.5188822746276855},\n",
       "  {u'learning_rate': 0.009999999776482582, u'loss': 2.3925704956054688},\n",
       "  {u'learning_rate': 0.009999999776482582, u'loss': 2.276127338409424},\n",
       "  {u'learning_rate': 0.009999999776482582, u'loss': 2.270864963531494},\n",
       "  {u'learning_rate': 0.009999999776482582, u'loss': 2.5810468196868896},\n",
       "  {u'learning_rate': 0.009999999776482582, u'loss': 2.4328885078430176},\n",
       "  {u'learning_rate': 0.009999999776482582, u'loss': 2.372063636779785},\n",
       "  {u'learning_rate': 0.009999999776482582, u'loss': 2.3531136512756348},\n",
       "  {u'learning_rate': 0.009999999776482582, u'loss': 2.431833267211914},\n",
       "  {u'learning_rate': 0.009999999776482582, u'loss': 2.415010690689087},\n",
       "  {u'learning_rate': 0.009999999776482582, u'loss': 2.254458427429199},\n",
       "  {u'learning_rate': 0.009999999776482582, u'loss': 2.7062206268310547},\n",
       "  {u'learning_rate': 0.009999999776482582, u'loss': 2.4617667198181152},\n",
       "  {u'learning_rate': 0.009999999776482582, u'loss': 2.4853053092956543},\n",
       "  {u'learning_rate': 0.009999999776482582, u'loss': 2.4013328552246094},\n",
       "  {u'learning_rate': 0.009999999776482582, u'loss': 2.4093263149261475},\n",
       "  {u'learning_rate': 0.009999999776482582, u'loss': 2.264383316040039},\n",
       "  {u'learning_rate': 0.009999999776482582, u'loss': 2.3945059776306152},\n",
       "  {u'learning_rate': 0.009999999776482582, u'loss': 2.2657294273376465},\n",
       "  {u'learning_rate': 0.009999999776482582, u'loss': 2.3982603549957275},\n",
       "  {u'learning_rate': 0.009999999776482582, u'loss': 2.4143383502960205},\n",
       "  {u'learning_rate': 0.009999999776482582, u'loss': 2.201707363128662},\n",
       "  {u'learning_rate': 0.009999999776482582, u'loss': 2.41035795211792},\n",
       "  {u'learning_rate': 0.009999999776482582, u'loss': 2.437922716140747},\n",
       "  {u'learning_rate': 0.009999999776482582, u'loss': 2.616520881652832},\n",
       "  {u'learning_rate': 0.009999999776482582, u'loss': 2.3444154262542725},\n",
       "  {u'learning_rate': 0.009999999776482582, u'loss': 2.3957886695861816},\n",
       "  {u'learning_rate': 0.009999999776482582, u'loss': 2.3994557857513428},\n",
       "  {u'learning_rate': 0.009999999776482582, u'loss': 2.3093442916870117},\n",
       "  {u'learning_rate': 0.009999999776482582, u'loss': 2.404263496398926},\n",
       "  {u'learning_rate': 0.009999999776482582, u'loss': 2.2676525115966797},\n",
       "  {u'learning_rate': 0.009999999776482582, u'loss': 2.5602738857269287},\n",
       "  {u'learning_rate': 0.009999999776482582, u'loss': 2.3683066368103027},\n",
       "  {u'learning_rate': 0.009999999776482582, u'loss': 2.147263288497925},\n",
       "  {u'learning_rate': 0.009999999776482582, u'loss': 2.219372034072876},\n",
       "  {u'learning_rate': 0.009999999776482582, u'loss': 2.640057325363159},\n",
       "  {u'learning_rate': 0.009999999776482582, u'loss': 2.291111946105957},\n",
       "  {u'learning_rate': 0.009999999776482582, u'loss': 2.2532801628112793},\n",
       "  {u'learning_rate': 0.009999999776482582, u'loss': 2.5018882751464844},\n",
       "  {u'learning_rate': 0.009999999776482582, u'loss': 2.3715763092041016},\n",
       "  {u'learning_rate': 0.009999999776482582, u'loss': 2.5008111000061035},\n",
       "  {u'learning_rate': 0.009999999776482582, u'loss': 2.284447193145752},\n",
       "  {u'learning_rate': 0.009999999776482582, u'loss': 2.381113052368164},\n",
       "  {u'learning_rate': 0.009999999776482582, u'loss': 2.236896276473999},\n",
       "  {u'learning_rate': 0.009999999776482582, u'loss': 2.27496337890625},\n",
       "  {u'learning_rate': 0.009999999776482582, u'loss': 2.368804693222046},\n",
       "  {u'learning_rate': 0.009999999776482582, u'loss': 2.2518043518066406},\n",
       "  {u'learning_rate': 0.009999999776482582, u'loss': 2.4260973930358887},\n",
       "  {u'learning_rate': 0.009999999776482582, u'loss': 2.327545642852783},\n",
       "  {u'learning_rate': 0.009999999776482582, u'loss': 2.5864245891571045},\n",
       "  {u'learning_rate': 0.009999999776482582, u'loss': 2.529053211212158},\n",
       "  {u'learning_rate': 0.009999999776482582, u'loss': 2.3820958137512207}],\n",
       " u'uploadDate': datetime.datetime(2017, 10, 13, 10, 56, 9, 519000),\n",
       " u'validation_results': {u'topn_val': {u'top1': 0.4403445512820513,\n",
       "   u'top5': 0.6904046474358975}}}"
      ]
     },
     "execution_count": 26,
     "metadata": {},
     "output_type": "execute_result"
    }
   ],
   "source": [
    "coll.find({'_id':results[0]['validates']})[0]['step']"
   ]
  },
  {
   "cell_type": "code",
   "execution_count": 27,
   "metadata": {
    "collapsed": false
   },
   "outputs": [
    {
     "ename": "IndexError",
     "evalue": "no such item for Cursor instance",
     "output_type": "error",
     "traceback": [
      "\u001b[1;31m---------------------------------------------------------------------------\u001b[0m",
      "\u001b[1;31mIndexError\u001b[0m                                Traceback (most recent call last)",
      "\u001b[1;32m<ipython-input-27-9daa9fefa853>\u001b[0m in \u001b[0;36m<module>\u001b[1;34m()\u001b[0m\n\u001b[0;32m      1\u001b[0m \u001b[1;32mfor\u001b[0m \u001b[0mres\u001b[0m \u001b[1;32min\u001b[0m \u001b[0mresults\u001b[0m\u001b[1;33m:\u001b[0m\u001b[1;33m\u001b[0m\u001b[0m\n\u001b[1;32m----> 2\u001b[1;33m     \u001b[0mres\u001b[0m\u001b[1;33m[\u001b[0m\u001b[1;34m'step'\u001b[0m\u001b[1;33m]\u001b[0m \u001b[1;33m=\u001b[0m \u001b[0mcoll\u001b[0m\u001b[1;33m.\u001b[0m\u001b[0mfind\u001b[0m\u001b[1;33m(\u001b[0m\u001b[1;33m{\u001b[0m\u001b[1;34m'_id'\u001b[0m\u001b[1;33m:\u001b[0m \u001b[0mres\u001b[0m\u001b[1;33m[\u001b[0m\u001b[1;34m'validates'\u001b[0m\u001b[1;33m]\u001b[0m\u001b[1;33m}\u001b[0m\u001b[1;33m)\u001b[0m\u001b[1;33m[\u001b[0m\u001b[1;36m0\u001b[0m\u001b[1;33m]\u001b[0m\u001b[1;33m[\u001b[0m\u001b[1;34m'step'\u001b[0m\u001b[1;33m]\u001b[0m\u001b[1;33m\u001b[0m\u001b[0m\n\u001b[0m",
      "\u001b[1;32m/usr/local/lib/python2.7/dist-packages/pymongo/cursor.pyc\u001b[0m in \u001b[0;36m__getitem__\u001b[1;34m(self, index)\u001b[0m\n\u001b[0;32m    584\u001b[0m             \u001b[1;32mfor\u001b[0m \u001b[0mdoc\u001b[0m \u001b[1;32min\u001b[0m \u001b[0mclone\u001b[0m\u001b[1;33m:\u001b[0m\u001b[1;33m\u001b[0m\u001b[0m\n\u001b[0;32m    585\u001b[0m                 \u001b[1;32mreturn\u001b[0m \u001b[0mdoc\u001b[0m\u001b[1;33m\u001b[0m\u001b[0m\n\u001b[1;32m--> 586\u001b[1;33m             \u001b[1;32mraise\u001b[0m \u001b[0mIndexError\u001b[0m\u001b[1;33m(\u001b[0m\u001b[1;34m\"no such item for Cursor instance\"\u001b[0m\u001b[1;33m)\u001b[0m\u001b[1;33m\u001b[0m\u001b[0m\n\u001b[0m\u001b[0;32m    587\u001b[0m         raise TypeError(\"index %r cannot be applied to Cursor \"\n\u001b[0;32m    588\u001b[0m                         \"instances\" % index)\n",
      "\u001b[1;31mIndexError\u001b[0m: no such item for Cursor instance"
     ]
    }
   ],
   "source": [
    "# for res in results:\n",
    "#     res['step'] = coll.find({'_id': res['validates']})[0]['step']"
   ]
  },
  {
   "cell_type": "code",
   "execution_count": 44,
   "metadata": {
    "collapsed": false
   },
   "outputs": [
    {
     "name": "stdout",
     "output_type": "stream",
     "text": [
      "60000\n",
      "120000\n",
      "120000\n",
      "120000\n",
      "180000\n",
      "180000\n",
      "180000\n",
      "180000\n",
      "180000\n",
      "180000\n",
      "10\n",
      "11\n",
      "12\n",
      "210000\n",
      "210000\n",
      "210000\n",
      "210000\n",
      "210000\n"
     ]
    }
   ],
   "source": [
    "results = [val_steps[i] for i in range(val_steps.count())]\n",
    "i = 0\n",
    "for res in results:\n",
    "    try:\n",
    "        res['step'] = coll.find({'_id': res['validates']})[0]['step']    \n",
    "        print(res['step'])\n",
    "    except:\n",
    "        res['step'] = -1\n",
    "        print(i)\n",
    "    i = i + 1"
   ]
  },
  {
   "cell_type": "code",
   "execution_count": 45,
   "metadata": {
    "collapsed": false
   },
   "outputs": [
    {
     "data": {
      "text/plain": [
       "18"
      ]
     },
     "execution_count": 45,
     "metadata": {},
     "output_type": "execute_result"
    }
   ],
   "source": [
    "len(results)"
   ]
  },
  {
   "cell_type": "code",
   "execution_count": 3,
   "metadata": {
    "collapsed": false
   },
   "outputs": [
    {
     "ename": "IndexError",
     "evalue": "no such item for Cursor instance",
     "output_type": "error",
     "traceback": [
      "\u001b[1;31m---------------------------------------------------------------------------\u001b[0m",
      "\u001b[1;31mIndexError\u001b[0m                                Traceback (most recent call last)",
      "\u001b[1;32m<ipython-input-3-c37068f1ad74>\u001b[0m in \u001b[0;36m<module>\u001b[1;34m()\u001b[0m\n\u001b[0;32m      8\u001b[0m     \u001b[1;32mreturn\u001b[0m \u001b[0mresults\u001b[0m\u001b[1;33m\u001b[0m\u001b[0m\n\u001b[0;32m      9\u001b[0m \u001b[1;33m\u001b[0m\u001b[0m\n\u001b[1;32m---> 10\u001b[1;33m \u001b[0mvalidation_data\u001b[0m \u001b[1;33m=\u001b[0m \u001b[0mget_neural_validation_data\u001b[0m\u001b[1;33m(\u001b[0m\u001b[0mexp_id\u001b[0m\u001b[1;33m=\u001b[0m\u001b[1;34m'experiment_1'\u001b[0m\u001b[1;33m)\u001b[0m\u001b[1;33m\u001b[0m\u001b[0m\n\u001b[0m\u001b[0;32m     11\u001b[0m \u001b[1;32mprint\u001b[0m\u001b[1;33m(\u001b[0m\u001b[1;34m'data keys:'\u001b[0m\u001b[1;33m)\u001b[0m\u001b[1;33m\u001b[0m\u001b[0m\n\u001b[0;32m     12\u001b[0m \u001b[1;32mprint\u001b[0m\u001b[1;33m(\u001b[0m\u001b[0mvalidation_data\u001b[0m\u001b[1;33m[\u001b[0m\u001b[1;36m0\u001b[0m\u001b[1;33m]\u001b[0m\u001b[1;33m.\u001b[0m\u001b[0mkeys\u001b[0m\u001b[1;33m(\u001b[0m\u001b[1;33m)\u001b[0m\u001b[1;33m)\u001b[0m\u001b[1;33m\u001b[0m\u001b[0m\n",
      "\u001b[1;32m<ipython-input-3-c37068f1ad74>\u001b[0m in \u001b[0;36mget_neural_validation_data\u001b[1;34m(exp_id)\u001b[0m\n\u001b[0;32m      5\u001b[0m     \u001b[0mresults\u001b[0m \u001b[1;33m=\u001b[0m \u001b[1;33m[\u001b[0m\u001b[0mval_steps\u001b[0m\u001b[1;33m[\u001b[0m\u001b[0mi\u001b[0m\u001b[1;33m]\u001b[0m \u001b[1;32mfor\u001b[0m \u001b[0mi\u001b[0m \u001b[1;32min\u001b[0m \u001b[0mrange\u001b[0m\u001b[1;33m(\u001b[0m\u001b[0mval_steps\u001b[0m\u001b[1;33m.\u001b[0m\u001b[0mcount\u001b[0m\u001b[1;33m(\u001b[0m\u001b[1;33m)\u001b[0m\u001b[1;33m)\u001b[0m\u001b[1;33m]\u001b[0m\u001b[1;33m\u001b[0m\u001b[0m\n\u001b[0;32m      6\u001b[0m     \u001b[1;32mfor\u001b[0m \u001b[0mres\u001b[0m \u001b[1;32min\u001b[0m \u001b[0mresults\u001b[0m\u001b[1;33m:\u001b[0m\u001b[1;33m\u001b[0m\u001b[0m\n\u001b[1;32m----> 7\u001b[1;33m         \u001b[0mres\u001b[0m\u001b[1;33m[\u001b[0m\u001b[1;34m'step'\u001b[0m\u001b[1;33m]\u001b[0m \u001b[1;33m=\u001b[0m \u001b[0mcoll\u001b[0m\u001b[1;33m.\u001b[0m\u001b[0mfind\u001b[0m\u001b[1;33m(\u001b[0m\u001b[1;33m{\u001b[0m\u001b[1;34m'_id'\u001b[0m\u001b[1;33m:\u001b[0m \u001b[0mres\u001b[0m\u001b[1;33m[\u001b[0m\u001b[1;34m'validates'\u001b[0m\u001b[1;33m]\u001b[0m\u001b[1;33m}\u001b[0m\u001b[1;33m)\u001b[0m\u001b[1;33m[\u001b[0m\u001b[1;36m0\u001b[0m\u001b[1;33m]\u001b[0m\u001b[1;33m[\u001b[0m\u001b[1;34m'step'\u001b[0m\u001b[1;33m]\u001b[0m\u001b[1;33m\u001b[0m\u001b[0m\n\u001b[0m\u001b[0;32m      8\u001b[0m     \u001b[1;32mreturn\u001b[0m \u001b[0mresults\u001b[0m\u001b[1;33m\u001b[0m\u001b[0m\n\u001b[0;32m      9\u001b[0m \u001b[1;33m\u001b[0m\u001b[0m\n",
      "\u001b[1;32m/usr/local/lib/python2.7/dist-packages/pymongo/cursor.pyc\u001b[0m in \u001b[0;36m__getitem__\u001b[1;34m(self, index)\u001b[0m\n\u001b[0;32m    584\u001b[0m             \u001b[1;32mfor\u001b[0m \u001b[0mdoc\u001b[0m \u001b[1;32min\u001b[0m \u001b[0mclone\u001b[0m\u001b[1;33m:\u001b[0m\u001b[1;33m\u001b[0m\u001b[0m\n\u001b[0;32m    585\u001b[0m                 \u001b[1;32mreturn\u001b[0m \u001b[0mdoc\u001b[0m\u001b[1;33m\u001b[0m\u001b[0m\n\u001b[1;32m--> 586\u001b[1;33m             \u001b[1;32mraise\u001b[0m \u001b[0mIndexError\u001b[0m\u001b[1;33m(\u001b[0m\u001b[1;34m\"no such item for Cursor instance\"\u001b[0m\u001b[1;33m)\u001b[0m\u001b[1;33m\u001b[0m\u001b[0m\n\u001b[0m\u001b[0;32m    587\u001b[0m         raise TypeError(\"index %r cannot be applied to Cursor \"\n\u001b[0;32m    588\u001b[0m                         \"instances\" % index)\n",
      "\u001b[1;31mIndexError\u001b[0m: no such item for Cursor instance"
     ]
    }
   ],
   "source": [
    "    return results\n",
    "\n",
    "validation_data = get_neural_validation_data(exp_id='experiment_1')\n",
    "print('data keys:')\n",
    "print(validation_data[0].keys())"
   ]
  },
  {
   "cell_type": "code",
   "execution_count": 29,
   "metadata": {
    "collapsed": false
   },
   "outputs": [
    {
     "name": "stdout",
     "output_type": "stream",
     "text": [
      "data keys:\n",
      "[u'exp_id', u'_id', u'validates', u'validation_results']\n"
     ]
    }
   ],
   "source": [
    "\n",
    "def get_neural_validation_data(exp_id):\n",
    "    q_val = {'exp_id' : exp_id, 'validation_results' : {'$exists' : True}, 'validates': {'$exists' : True}}\n",
    "    val_steps = coll.find(q_val, projection = ['validation_results', 'validates', 'exp_id'])\n",
    "\n",
    "    results = [val_steps[i] for i in range(val_steps.count())]\n",
    "    for res in results:\n",
    "        if 'step' in res:\n",
    "            res['step'] = coll.find({'_id': res['validates']})[0]['step']\n",
    "        else:\n",
    "            res['step'] = 'blah'\n",
    "    return results\n",
    "\n",
    "validation_data = get_neural_validation_data(exp_id='experiment_1')\n",
    "print('data keys:')\n",
    "print(validation_data[0].keys())"
   ]
  },
  {
   "cell_type": "code",
   "execution_count": null,
   "metadata": {
    "collapsed": true
   },
   "outputs": [],
   "source": [
    "coll.find()"
   ]
  },
  {
   "cell_type": "code",
   "execution_count": null,
   "metadata": {
    "collapsed": true
   },
   "outputs": [],
   "source": []
  },
  {
   "cell_type": "code",
   "execution_count": 46,
   "metadata": {
    "collapsed": false
   },
   "outputs": [
    {
     "name": "stdout",
     "output_type": "stream",
     "text": [
      "Can't import separate mcc package\n",
      "Can't import asgd.\n",
      "Can't import scikits stuff\n"
     ]
    },
    {
     "name": "stderr",
     "output_type": "stream",
     "text": [
      "/usr/local/lib/python2.7/dist-packages/sklearn/cross_validation.py:41: DeprecationWarning: This module was deprecated in version 0.18 in favor of the model_selection module into which all the refactored classes and functions are moved. Also note that the interface of the new CV iterators are different from that of this module. This module will be removed in 0.20.\n",
      "  \"This module will be removed in 0.20.\", DeprecationWarning)\n",
      "/usr/local/lib/python2.7/dist-packages/sklearn/grid_search.py:42: DeprecationWarning: This module was deprecated in version 0.18 in favor of the model_selection module into which all the refactored classes and functions are moved. This module will be removed in 0.20.\n",
      "  DeprecationWarning)\n"
     ]
    }
   ],
   "source": [
    "import dldata"
   ]
  },
  {
   "cell_type": "code",
   "execution_count": null,
   "metadata": {
    "collapsed": true
   },
   "outputs": [],
   "source": [
    "dldata.metrics.utils.compute_metric_base"
   ]
  },
  {
   "cell_type": "code",
   "execution_count": 41,
   "metadata": {
    "collapsed": false
   },
   "outputs": [
    {
     "name": "stdout",
     "output_type": "stream",
     "text": [
      "{u'corr_splitarray_loss': [0.503497395057094, 0.47219189166185205, 0.5214176860125014, 0.4667699138448248, 0.5416233678116966, 0.49569317278469893, 0.5537914006199944, 0.5200320734259618, 0.4372126680121513, 0.489877605804634, 0.5566503502405833, 0.5161707360106444, 0.5145740052313867, 0.5215274551153803, 0.4569213445384902, 0.5893115077432984, 0.5358845773749783, 0.4695785452697411, 0.532088778686111, 0.468479119250375], u'rsquared_loss_stderror': 0.054668133953178884, u'rsquared_splitarray_loss': [0.7627983734791657, 0.7324496212841523, 0.7913588066061612, 0.7170270861587661, 0.8086459796916369, 0.7771753628108867, 0.8050121214553344, 0.798186297699666, 0.6880841602306444, 0.783089477273796, 0.8489316042252322, 0.8091481397670103, 0.7709406811976056, 0.7985779172242242, 0.7364440837764913, 0.9301874424360556, 0.8238852783733291, 0.7293731352547298, 0.8673767436427591, 0.7473447381699297], u'corr_loss_stderror': 0.037630526232295805, u'rsquared_loss': 0.7863018525378789, u'corr_loss': 0.5081646797248198}\n",
      "{u'corr_splitarray_loss': [nan, nan, nan, nan, nan, nan, nan, nan, nan, nan, nan, nan, nan, nan, nan, nan, nan, nan, nan, nan], u'rsquared_loss_stderror': nan, u'rsquared_splitarray_loss': [inf, inf, inf, inf, inf, inf, inf, inf, inf, inf, inf, inf, inf, inf, inf, inf, inf, inf, inf, inf], u'corr_loss_stderror': nan, u'rsquared_loss': inf, u'corr_loss': nan}\n",
      "{u'corr_splitarray_loss': [0.4811831014606157, 0.38211357500670984, 0.45967319532236484, 0.5532188024050514, 0.5731778024646714, 0.5383353226019905, 0.4832584455492319, 0.4767680343878222, 0.6095316411804188, 0.5063334293811403, 0.5648062242333953, 0.44391440609658517, 0.4978450401979011, 0.621671389183809, 0.4877963903085647, 0.49974008854795937, 0.5035562547991195, 0.4654996374062329, 0.521453096086171, 0.475810313536951], u'rsquared_loss_stderror': 0.07074721257087495, u'rsquared_splitarray_loss': [0.7570820002986237, 0.6989196813190217, 0.7237890612982808, 0.8792256527069721, 0.8865803616389785, 0.8585947123859055, 0.7593124276283335, 0.7652225395082115, 0.917846035324868, 0.7662224179825546, 0.8653209891235093, 0.6999748297264369, 0.7945601881724277, 0.9378852153107842, 0.7444440862700419, 0.7669059921176508, 0.7771086816774386, 0.743448076623892, 0.8300338921860512, 0.7255947463584891], u'corr_loss_stderror': 0.055624519431150536, u'rsquared_loss': 0.7949035793829236, u'corr_loss': 0.5072843095078353}\n"
     ]
    }
   ],
   "source": [
    "\"\"\"\n",
    "You will need to EDIT this part.\n",
    "Please subselect 'validation_data' with 'idx' to pick the data entry for your desired iteration step.\n",
    "1.) Assign \n",
    "    data = 'validation_data[idx]['validation_results']['valid0']'\n",
    "and\n",
    "    step = validation_data[idx]['step']\n",
    "2.) Choose the target_layers you want to evaluate on.\n",
    "\"\"\"\n",
    "# TODO FIX THIS OH MY GOD\n",
    "#target_layers = ['pool1', 'conv2', 'conv3', 'conv4', 'conv5', 'pool5', 'fc6', 'fc7']\n",
    "target_layers = ['pool1']\n",
    "\n",
    "# TODO This needs to include the data at 0 as well\n",
    "for idx in range(len(validation_data)):\n",
    "    data = validation_data[idx]['validation_results']['valid0']\n",
    "    if 'pleasework_pool1' in data.keys():\n",
    "         print(data['pleasework_pool1'])\n",
    "#     print data.keys()\n",
    "#print(data.keys())\n",
    "#print(data['continuous_pool1'])\n",
    "#print(data['within_categorization_pool1'])"
   ]
  },
  {
   "cell_type": "code",
   "execution_count": 34,
   "metadata": {
    "collapsed": false
   },
   "outputs": [
    {
     "data": {
      "text/plain": [
       "[u'conv1_kernel', u'pleasework_pool1']"
      ]
     },
     "execution_count": 34,
     "metadata": {},
     "output_type": "execute_result"
    }
   ],
   "source": [
    "data.keys()"
   ]
  },
  {
   "cell_type": "code",
   "execution_count": null,
   "metadata": {
    "collapsed": false
   },
   "outputs": [],
   "source": [
    "len(validation_data)"
   ]
  },
  {
   "cell_type": "code",
   "execution_count": null,
   "metadata": {
    "collapsed": true
   },
   "outputs": [],
   "source": [
    "def get_data(idx):\n",
    "    return validation_data[idx]['validation_results']['valid0']"
   ]
  },
  {
   "cell_type": "code",
   "execution_count": null,
   "metadata": {
    "collapsed": false
   },
   "outputs": [],
   "source": [
    "data = get_data(9)"
   ]
  },
  {
   "cell_type": "code",
   "execution_count": null,
   "metadata": {
    "collapsed": false
   },
   "outputs": [],
   "source": [
    "data.keys()"
   ]
  },
  {
   "cell_type": "code",
   "execution_count": null,
   "metadata": {
    "collapsed": false
   },
   "outputs": [],
   "source": [
    "step = validation_data[idx]['step']"
   ]
  },
  {
   "cell_type": "markdown",
   "metadata": {},
   "source": [
    "### Analyzing the RDM results\n",
    "\n",
    "We will start with visualizing the RDMs you computed for each layer and the IT neurons. \n",
    "\n",
    "Please implement 'plot_rdms' that visualizes the rdms of all target_layers and displays the layer name as well as the spearman_corrcoef and the iteration step in the plot title.\n"
   ]
  },
  {
   "cell_type": "code",
   "execution_count": null,
   "metadata": {
    "collapsed": false,
    "scrolled": false
   },
   "outputs": [],
   "source": [
    "def plot_rdms(data, target_layers, step):\n",
    "    \"\"\"\n",
    "    Displays the RDMs of all target layers.\n",
    "    \n",
    "    You will need to EDIT this part. Please implement a function that visualizes \n",
    "    the rdms of all target_layers and displays the layer name as well as the \n",
    "    spearman_corrcoef in the plot title.\n",
    "    \"\"\"\n",
    "    for i, layer in enumerate(target_layers):\n",
    "        rdm = data['rdm_%s' % layer]\n",
    "        spearman_corrcoef = data['spearman_corrcoef_%s' % layer]\n",
    "        ### YOUR CODE HERE\n",
    "        fig = plt.figure(figsize=(8, 8))\n",
    "        m = fig.gca().matshow(rdm)\n",
    "        plt.colorbar(m)\n",
    "        plt.title(str(layer) + \": spearman_corr_coeff = \" + str(spearman_corrcoef) + \"; step: \" + str(step))\n",
    "        \n",
    "        ### END OF YOUR CODE\n",
    "\n",
    "plot_rdms(data, target_layers, step)"
   ]
  },
  {
   "cell_type": "markdown",
   "metadata": {},
   "source": [
    "### Analyzing the categorization results\n",
    "\n",
    "Now let's visualize the results of the categorization test we performed for each layer. \n",
    "\n",
    "Your task is to plot the confusion matrix 'cms' across all categorized classes for each layer. You will need 'cms', 'labelset' and 'accbal' from data['categorization_\"insert_target_layer_here\"']['result_summary']. Label the x and y axis with 'labelset'. Put the layer name, average accuracy and the iteration step in the plot title. To get the average accuracy substract 0.5 from the mean of 'accbal' and multiply the result with 2. Describe what you see."
   ]
  },
  {
   "cell_type": "code",
   "execution_count": null,
   "metadata": {
    "collapsed": false,
    "scrolled": false
   },
   "outputs": [],
   "source": [
    "def plot_categorization_results(data, target_layers, step, category=None):\n",
    "    \"\"\"\n",
    "    Plots the confusion matrix and the average classification accuracy for each layer.\n",
    "    \n",
    "    You will need to EDIT this section.\n",
    "    \"\"\"\n",
    "    for i, layer in enumerate(target_layers):\n",
    "        if category:\n",
    "            k = 'within_categorization_%s' % layer                \n",
    "            try:\n",
    "                categorization_results = data[k][category]['result_summary']\n",
    "            except:\n",
    "                raise Exception(category + \" is not a real category in data...\")\n",
    "        else:\n",
    "            k = 'categorization_%s' % layer\n",
    "            categorization_results = data[k]['result_summary']\n",
    "        ### YOUR CODE HERE\n",
    "        fig = plt.figure(figsize=(8, 8))\n",
    "        m = fig.gca().matshow(np.array(categorization_results['cms']).mean(2))\n",
    "        plt.xticks(range(8), categorization_results['labelset'])\n",
    "        plt.yticks(range(8), categorization_results['labelset'])\n",
    "        plt.colorbar(m)\n",
    "        ave_acc = (np.mean(categorization_results['accbal']) - .5) * 2\n",
    "        if category:\n",
    "            plt.title(\"category: \" + category + \" , \" + k + \"\\n: mean_accuracy = \" + str(ave_acc) + \", iteration_step = \" + str(step))\n",
    "        else:\n",
    "            plt.title(k + \": mean_accuracy = \" + str(ave_acc) + \"\\n, iteration_step = \" + str(step))\n",
    "\n",
    "        m.set_cmap('jet')\n",
    "        ax = plt.gca()\n",
    "        ax.xaxis.tick_bottom()\n",
    "        \n",
    "        \n",
    "        ### END OF YOUR CODE\n",
    "# Plot across categorization\n",
    "#plot_categorization_results(data, target_layers, step)\n",
    "\n",
    "# Plot within categorization\n",
    "categories = ['Animals', 'Boats', 'Cars', 'Chairs', 'Faces', 'Fruits', 'Planes', 'Tables']\n",
    "for category in categories:\n",
    "    plot_categorization_results(data, target_layers, step, category=category)\n"
   ]
  },
  {
   "cell_type": "markdown",
   "metadata": {},
   "source": [
    "### Analyzing the regression results\n",
    "\n",
    "We will now display the results of the regression test. \n",
    "\n",
    "Please print (1 - data['it\\_regression_\"insert_target_layer_here\"']['noise_corrected_multi_rsquared_loss']) for each layer and step and label the print out with the layer name and step. Describe what you observe."
   ]
  },
  {
   "cell_type": "code",
   "execution_count": null,
   "metadata": {
    "collapsed": false
   },
   "outputs": [],
   "source": [
    "def plot_regression_results(data, target_layers, step):\n",
    "    \"\"\"\n",
    "    Prints out the noise corrected multi rsquared loss for each layer.\n",
    "    \n",
    "    You will need to EDIT this function.\n",
    "    \"\"\"\n",
    "    for layer in target_layers:\n",
    "        k = 'it_regression_%s' % layer\n",
    "        regression_results = data[k]\n",
    "        ### YOUR CODE HERE\n",
    "        calculated_regression_val = 1 - regression_results['noise_corrected_multi_rsquared_loss']\n",
    "        print('step: ' + str(step) + \", layer: \" + layer + \", calculated_value: \" + str(calculated_regression_val))\n",
    "        ### END OF YOUR CODE\n",
    "\n",
    "plot_regression_results(data, target_layers, step)"
   ]
  },
  {
   "cell_type": "markdown",
   "metadata": {},
   "source": [
    "### Visualizing the conv1 kernels\n",
    "Lastly, we will plot the conv1 filter kernels. \n",
    "\n",
    "Your task is to visualize the 'conv1_kernel' in a 12 x 8 grid. Therefore, you just have to plot each kernel as an image in a subplot. The kernels are stored in data['conv1_kernel']. Print out the iteration step and plot the kernels and describe what you see."
   ]
  },
  {
   "cell_type": "code",
   "execution_count": null,
   "metadata": {
    "collapsed": false,
    "scrolled": false
   },
   "outputs": [],
   "source": [
    "def plot_conv1_kernels(data, step):\n",
    "    \"\"\"\n",
    "    Plots the 96 conv1 kernels in a 12 x 8 subplot grid.\n",
    "    \n",
    "    You will need to EDIT this function.\n",
    "    \"\"\"\n",
    "    print('Iteration step: %d' % step)\n",
    "    kernels = np.array(data['conv1_kernel'])\n",
    "    ### YOUR CODE HERE\n",
    "    x = 12\n",
    "    y = 8\n",
    "    f, axarr = plt.subplots(x, y, figsize=(4*x, 4*y))\n",
    "    for i in range(x):\n",
    "        for j in range(y):\n",
    "            m = axarr[i,j].imshow(kernels[:,:,:,i*y + j])\n",
    "            axarr[i,j].get_xaxis().set_visible(False)\n",
    "            axarr[i,j].get_yaxis().set_visible(False)\n",
    "    f.subplots_adjust(hspace=0)\n",
    "    f.subplots_adjust(wspace=0)\n",
    "\n",
    "    ### END OF YOUR CODE\n",
    "           \n",
    "plot_conv1_kernels(data, step)"
   ]
  },
  {
   "cell_type": "markdown",
   "metadata": {},
   "source": [
    "### TODO WRITE DESCRIPTION OF THIS PLOT and all plots..."
   ]
  }
 ],
 "metadata": {
  "kernelspec": {
   "display_name": "Python 2",
   "language": "python",
   "name": "python2"
  },
  "language_info": {
   "codemirror_mode": {
    "name": "ipython",
    "version": 2
   },
   "file_extension": ".py",
   "mimetype": "text/x-python",
   "name": "python",
   "nbconvert_exporter": "python",
   "pygments_lexer": "ipython2",
   "version": "2.7.12"
  }
 },
 "nbformat": 4,
 "nbformat_minor": 2
}
