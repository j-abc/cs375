{
 "cells": [
  {
   "cell_type": "markdown",
   "metadata": {},
   "source": [
    "# Alexnet\n",
    "FOR MULTIPLE TIME POINTS AND THE FINAL TIME POINT, EVALUATE!\n",
    "\n",
    "### 2.2 training curve\n",
    "### 2.2 top1/5 accuracy\n",
    "\n",
    "### 2.2.1 categorization - across and within, continuous for each layer\n",
    "V0,3,6\n",
    "V6\n",
    "\n",
    "### 2.2.2 rdm\n",
    "V0, 3, 6\n",
    "V6\n",
    "\n",
    "### 2.2.3 regression against IT\n",
    "\n",
    "### 2.2.4 visualizing the kernels \n",
    "\n",
    "# IT neural data\n",
    "### 2.2.1 categorization - across and within, continuous for each layer\n",
    "V0,3,6\n",
    "V6\n",
    "\n",
    "### 2.2.2 rdm\n",
    "V0, 3, 6\n",
    "V6\n",
    "\n",
    "# Tinynet\n",
    "repeat alexnet \n",
    "\n",
    "# V1 Model\n",
    "repeat alexnet"
   ]
  },
  {
   "cell_type": "code",
   "execution_count": null,
   "metadata": {
    "collapsed": true
   },
   "outputs": [],
   "source": []
  }
 ],
 "metadata": {
  "kernelspec": {
   "display_name": "Python 2",
   "language": "python",
   "name": "python2"
  },
  "language_info": {
   "codemirror_mode": {
    "name": "ipython",
    "version": 2
   },
   "file_extension": ".py",
   "mimetype": "text/x-python",
   "name": "python",
   "nbconvert_exporter": "python",
   "pygments_lexer": "ipython2",
   "version": "2.7.12"
  }
 },
 "nbformat": 4,
 "nbformat_minor": 0
}
