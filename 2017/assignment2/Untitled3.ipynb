{
 "cells": [
  {
   "cell_type": "code",
   "execution_count": null,
   "metadata": {
    "collapsed": true
   },
   "outputs": [],
   "source": [
    "my_model_shallow = model_switcher(model_name = 'shallow_bottle',\n",
    "                          data_name = 'cifar10',\n",
    "                          loss_name = 'autoencoder_loss')"
   ]
  },
  {
   "cell_type": "code",
   "execution_count": null,
   "metadata": {
    "collapsed": true
   },
   "outputs": [],
   "source": [
    "my_model_shallow = model_switcher(model_name = 'shallow_bottle',\n",
    "                          data_name = 'cifar10',\n",
    "                          loss_name = 'ae_conv1_loss')"
   ]
  },
  {
   "cell_type": "code",
   "execution_count": null,
   "metadata": {
    "collapsed": true
   },
   "outputs": [],
   "source": [
    "my_model_shallow = model_switcher(model_name = 'pooled_shallow',\n",
    "                          data_name = 'cifar10',\n",
    "                          loss_name = 'autoencoder_loss')"
   ]
  },
  {
   "cell_type": "code",
   "execution_count": null,
   "metadata": {
    "collapsed": true
   },
   "outputs": [],
   "source": [
    "my_model_shallow = model_switcher(model_name = 'pooled_shallow',\n",
    "                          data_name = 'cifar10',\n",
    "                          loss_name = 'autoencoder_loss')"
   ]
  }
 ],
 "metadata": {
  "kernelspec": {
   "display_name": "Python 2",
   "language": "python",
   "name": "python2"
  },
  "language_info": {
   "codemirror_mode": {
    "name": "ipython",
    "version": 2
   },
   "file_extension": ".py",
   "mimetype": "text/x-python",
   "name": "python",
   "nbconvert_exporter": "python",
   "pygments_lexer": "ipython2",
   "version": "2.7.12"
  }
 },
 "nbformat": 4,
 "nbformat_minor": 0
}
