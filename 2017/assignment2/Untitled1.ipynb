{
 "cells": [
  {
   "cell_type": "code",
   "execution_count": 1,
   "metadata": {
    "collapsed": true
   },
   "outputs": [],
   "source": [
    "%matplotlib inline \n",
    "import os\n",
    "import numpy as np\n",
    "import tensorflow as tf\n",
    "import pymongo as pm\n",
    "import gridfs\n",
    "import cPickle\n",
    "import scipy.signal as signal\n",
    "import matplotlib.pyplot as plt\n",
    "from tqdm import tqdm_notebook, trange\n",
    "from assignment_utils import *"
   ]
  },
  {
   "cell_type": "code",
   "execution_count": 19,
   "metadata": {
    "collapsed": true
   },
   "outputs": [],
   "source": [
    "collname = 'alexnet'\n",
    "v_list = ['V0V3V6', 'V6']\n",
    "target_layers = ['pool1', 'conv2', 'conv3', 'conv4', 'conv5', 'pool5', 'fc6', 'fc7']\n",
    "step_list = [90000, 120000, 150000, 240000]"
   ]
  },
  {
   "cell_type": "code",
   "execution_count": 20,
   "metadata": {
    "collapsed": false
   },
   "outputs": [
    {
     "data": {
      "text/plain": [
       "[u'experiment_1',\n",
       " u'experiment_1_120000',\n",
       " u'experiment_1_90000',\n",
       " u'experiment_1_150000',\n",
       " u'experiment_1_240000']"
      ]
     },
     "execution_count": 20,
     "metadata": {},
     "output_type": "execute_result"
    }
   ],
   "source": [
    "coll, db = p_get_coll(collname,'imagenet')\n",
    "coll.distinct('exp_id')"
   ]
  },
  {
   "cell_type": "code",
   "execution_count": 24,
   "metadata": {
    "collapsed": true
   },
   "outputs": [],
   "source": [
    "def p_get_data_list(coll, collname, step, v, idx = -1):\n",
    "    exp_id = 'experiment_1_%s_%s_%s'%(str(step), collname, v)\n",
    "    def get_neural_validation_data(exp_id):\n",
    "        q_val = {'exp_id' : exp_id, 'validation_results' : {'$exists' : True}, 'validates': {'$exists' : True}}\n",
    "        val_steps = coll.find(q_val, projection = ['validation_results', 'validates', 'exp_id'])\n",
    "\n",
    "        results = [val_steps[i] for i in range(val_steps.count())]\n",
    "        for res in results:\n",
    "            try:\n",
    "                res['step'] = coll.find({'_id': res['validates']})[0]['step']\n",
    "            except:\n",
    "                res['step'] = -1\n",
    "        return results\n",
    "\n",
    "    validation_data = get_neural_validation_data(exp_id=exp_id)\n",
    "    print idx\n",
    "    data = validation_data[idx]['validation_results']['valid0']\n",
    "    print validation_data[idx]['step'], v\n",
    "    return data"
   ]
  },
  {
   "cell_type": "code",
   "execution_count": 25,
   "metadata": {
    "collapsed": false
   },
   "outputs": [
    {
     "name": "stdout",
     "output_type": "stream",
     "text": [
      "V0V3V6 90000\n",
      "-1\n"
     ]
    },
    {
     "ename": "IndexError",
     "evalue": "list index out of range",
     "output_type": "error",
     "traceback": [
      "\u001b[1;31m---------------------------------------------------------------------------\u001b[0m",
      "\u001b[1;31mIndexError\u001b[0m                                Traceback (most recent call last)",
      "\u001b[1;32m<ipython-input-25-1d2632167825>\u001b[0m in \u001b[0;36m<module>\u001b[1;34m()\u001b[0m\n\u001b[0;32m      3\u001b[0m     \u001b[1;32mfor\u001b[0m \u001b[0mistep\u001b[0m \u001b[1;32min\u001b[0m \u001b[0mstep_list\u001b[0m\u001b[1;33m:\u001b[0m\u001b[1;33m\u001b[0m\u001b[0m\n\u001b[0;32m      4\u001b[0m         \u001b[1;32mprint\u001b[0m \u001b[0miv\u001b[0m\u001b[1;33m,\u001b[0m \u001b[0mistep\u001b[0m\u001b[1;33m\u001b[0m\u001b[0m\n\u001b[1;32m----> 5\u001b[1;33m         \u001b[0mdata\u001b[0m\u001b[1;33m[\u001b[0m\u001b[1;33m(\u001b[0m\u001b[0miv\u001b[0m\u001b[1;33m,\u001b[0m \u001b[0mistep\u001b[0m\u001b[1;33m)\u001b[0m\u001b[1;33m]\u001b[0m \u001b[1;33m=\u001b[0m \u001b[0mp_get_data_list\u001b[0m\u001b[1;33m(\u001b[0m\u001b[0mcoll\u001b[0m\u001b[1;33m,\u001b[0m \u001b[0mcollname\u001b[0m\u001b[1;33m,\u001b[0m \u001b[0mistep\u001b[0m\u001b[1;33m,\u001b[0m \u001b[0miv\u001b[0m\u001b[1;33m)\u001b[0m\u001b[1;33m\u001b[0m\u001b[0m\n\u001b[0m",
      "\u001b[1;32m<ipython-input-24-af2f6938a8c5>\u001b[0m in \u001b[0;36mp_get_data_list\u001b[1;34m(coll, collname, step, v, idx)\u001b[0m\n\u001b[0;32m     15\u001b[0m     \u001b[0mvalidation_data\u001b[0m \u001b[1;33m=\u001b[0m \u001b[0mget_neural_validation_data\u001b[0m\u001b[1;33m(\u001b[0m\u001b[0mexp_id\u001b[0m\u001b[1;33m=\u001b[0m\u001b[0mexp_id\u001b[0m\u001b[1;33m)\u001b[0m\u001b[1;33m\u001b[0m\u001b[0m\n\u001b[0;32m     16\u001b[0m     \u001b[1;32mprint\u001b[0m \u001b[0midx\u001b[0m\u001b[1;33m\u001b[0m\u001b[0m\n\u001b[1;32m---> 17\u001b[1;33m     \u001b[0mdata\u001b[0m \u001b[1;33m=\u001b[0m \u001b[0mvalidation_data\u001b[0m\u001b[1;33m[\u001b[0m\u001b[0midx\u001b[0m\u001b[1;33m]\u001b[0m\u001b[1;33m[\u001b[0m\u001b[1;34m'validation_results'\u001b[0m\u001b[1;33m]\u001b[0m\u001b[1;33m[\u001b[0m\u001b[1;34m'valid0'\u001b[0m\u001b[1;33m]\u001b[0m\u001b[1;33m\u001b[0m\u001b[0m\n\u001b[0m\u001b[0;32m     18\u001b[0m     \u001b[1;32mprint\u001b[0m \u001b[0mvalidation_data\u001b[0m\u001b[1;33m[\u001b[0m\u001b[0midx\u001b[0m\u001b[1;33m]\u001b[0m\u001b[1;33m[\u001b[0m\u001b[1;34m'step'\u001b[0m\u001b[1;33m]\u001b[0m\u001b[1;33m,\u001b[0m \u001b[0mv\u001b[0m\u001b[1;33m\u001b[0m\u001b[0m\n\u001b[0;32m     19\u001b[0m     \u001b[1;32mreturn\u001b[0m \u001b[0mdata\u001b[0m\u001b[1;33m\u001b[0m\u001b[0m\n",
      "\u001b[1;31mIndexError\u001b[0m: list index out of range"
     ]
    }
   ],
   "source": [
    "data = {}\n",
    "for iv in v_list:\n",
    "    for istep in step_list:\n",
    "        print iv, istep\n",
    "        data[(iv, istep)] = p_get_data_list(coll, collname, istep, iv)"
   ]
  },
  {
   "cell_type": "code",
   "execution_count": null,
   "metadata": {
    "collapsed": true
   },
   "outputs": [],
   "source": [
    "def get_categorization_results(data, target_layers, step, category=None):\n",
    "    \"\"\"\n",
    "    Plots the confusion matrix and the average classification accuracy for each layer.\n",
    "\n",
    "    You will need to EDIT this section.\n",
    "    \"\"\"\n",
    "    for i, layer in enumerate(target_layers):\n",
    "        if category:\n",
    "            k = 'within_categorization_%s' % layer                \n",
    "            try:\n",
    "                categorization_results = data[k][category]['result_summary']\n",
    "            except:\n",
    "                raise Exception(category + \" is not a real category in data...\")\n",
    "        else:\n",
    "            k = 'categorization_%s' % layer\n",
    "            categorization_results = data[k]['result_summary']\n",
    "        ### YOUR CODE HERE\n",
    "        fig = plt.figure(figsize=(8, 8))\n",
    "        m = fig.gca().matshow(np.array(categorization_results['cms']).mean(2))\n",
    "        plt.xticks(range(8), categorization_results['labelset'])\n",
    "        plt.yticks(range(8), categorization_results['labelset'])\n",
    "        plt.colorbar(m)\n",
    "        ave_acc = (np.mean(categorization_results['accbal']) - .5) * 2\n",
    "        if category:\n",
    "            plt.title(\"category: \" + category + \" , \" + k + \"\\n: mean_accuracy = \" + str(ave_acc) + \", iteration_step = \" + str(step))\n",
    "        else:\n",
    "            plt.title(k + \": mean_accuracy = \" + str(ave_acc) + \"\\n, iteration_step = \" + str(step))\n",
    "\n",
    "        m.set_cmap('jet')\n",
    "        ax = plt.gca()\n",
    "        ax.xaxis.tick_bottom()\n",
    "        "
   ]
  }
 ],
 "metadata": {
  "kernelspec": {
   "display_name": "Python 2",
   "language": "python",
   "name": "python2"
  },
  "language_info": {
   "codemirror_mode": {
    "name": "ipython",
    "version": 2
   },
   "file_extension": ".py",
   "mimetype": "text/x-python",
   "name": "python",
   "nbconvert_exporter": "python",
   "pygments_lexer": "ipython2",
   "version": "2.7.12"
  }
 },
 "nbformat": 4,
 "nbformat_minor": 0
}
