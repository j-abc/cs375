{
 "cells": [
  {
   "cell_type": "markdown",
   "metadata": {},
   "source": [
    "# CS375 Assignment 2 Lab Report\n",
    "#### Group 6 "
   ]
  },
  {
   "cell_type": "markdown",
   "metadata": {},
   "source": [
    "## Part 1: Task Generalization"
   ]
  },
  {
   "cell_type": "code",
   "execution_count": 1,
   "metadata": {
    "collapsed": false
   },
   "outputs": [],
   "source": [
    "%matplotlib inline \n",
    "import os\n",
    "import numpy as np\n",
    "import tensorflow as tf\n",
    "import pymongo as pm\n",
    "import gridfs\n",
    "import cPickle\n",
    "import scipy.signal as signal\n",
    "import matplotlib.pyplot as plt\n",
    "from tqdm import tqdm_notebook, trange\n",
    "from assignment_utils import *"
   ]
  },
  {
   "cell_type": "markdown",
   "metadata": {},
   "source": [
    "### Getting data from the database"
   ]
  },
  {
   "cell_type": "code",
   "execution_count": 2,
   "metadata": {
    "collapsed": false
   },
   "outputs": [],
   "source": [
    "from model_switcher import *"
   ]
  },
  {
   "cell_type": "code",
   "execution_count": 3,
   "metadata": {
    "collapsed": true
   },
   "outputs": [],
   "source": [
    "my_model_shallow = model_switcher(model_name = 'shallow_bottle',\n",
    "                          data_name = 'cifar10',\n",
    "                          loss_name = 'default',\n",
    "                          exp_id  = 'stride2')"
   ]
  },
  {
   "cell_type": "code",
   "execution_count": 4,
   "metadata": {
    "collapsed": false
   },
   "outputs": [
    {
     "data": {
      "text/plain": [
       "{'collname': 'shallow_bottle_default',\n",
       " 'data_name': 'cifar10',\n",
       " 'dbname': 'cifar10',\n",
       " 'exp_fn': <class experiments.cifar10 at 0x7f1b486837a0>,\n",
       " 'exp_id': 'stride2',\n",
       " 'layers': ['conv1', 'deconv1'],\n",
       " 'loss_fn': <function losses.autoencoder_loss>,\n",
       " 'loss_name': 'default',\n",
       " 'model_fn': <function models.shallow_bottle>,\n",
       " 'model_name': 'shallow_bottle'}"
      ]
     },
     "execution_count": 4,
     "metadata": {},
     "output_type": "execute_result"
    }
   ],
   "source": [
    "vars(my_model_shallow)"
   ]
  },
  {
   "cell_type": "code",
   "execution_count": 5,
   "metadata": {
    "collapsed": false
   },
   "outputs": [],
   "source": [
    "#v_list = ['V0V3V6', 'V6']\n",
    "#target_layers = ['pool1', 'conv2', 'conv3', 'conv4', 'conv5', 'pool5', 'fc6', 'fc7']\n",
    "#step_list = [90000, 150000, 240000]"
   ]
  },
  {
   "cell_type": "code",
   "execution_count": 6,
   "metadata": {
    "collapsed": false
   },
   "outputs": [
    {
     "name": "stdout",
     "output_type": "stream",
     "text": [
      "Collection(Database(MongoClient(host=['localhost:24444'], document_class=dict, tz_aware=False, connect=True), u'cifar10'), u'shallow_bottle_default.files')\n"
     ]
    },
    {
     "data": {
      "text/plain": [
       "[u'testrun',\n",
       " u'testrun2',\n",
       " u'stridefix2',\n",
       " u'stridefix3',\n",
       " u'stridefix4',\n",
       " u'stride2',\n",
       " u'stridebig',\n",
       " u'stridebig4',\n",
       " u'newstride',\n",
       " u'newstride2',\n",
       " u'newstride3',\n",
       " u'omgitworks2',\n",
       " u'omgitworks5',\n",
       " u'omgitworks9',\n",
       " u'ha',\n",
       " u'ha2',\n",
       " u'ha4',\n",
       " u'ha5',\n",
       " u'ha6']"
      ]
     },
     "execution_count": 6,
     "metadata": {},
     "output_type": "execute_result"
    }
   ],
   "source": [
    "coll = p_get_coll(vars(my_model_shallow)['collname'], vars(my_model_shallow)['dbname'])\n",
    "print(coll)\n",
    "\n",
    "coll.distinct('exp_id')"
   ]
  },
  {
   "cell_type": "markdown",
   "metadata": {},
   "source": [
    "### Plotting the training curve\n",
    "To see the training curve for the experiment, we pull the training loss and plot it, along with a smoothed version of the training loss obtained by convolving the loss with a boxcar."
   ]
  },
  {
   "cell_type": "code",
   "execution_count": 7,
   "metadata": {
    "collapsed": false
   },
   "outputs": [
    {
     "data": {
      "image/png": "[encoded data removed]",
      "text/plain": [
       "<matplotlib.figure.Figure at 0x7f1b51c8fa10>"
      ]
     },
     "metadata": {},
     "output_type": "display_data"
    },
    {
     "data": {
      "image/png": "[encoded data removed]",
      "text/plain": [
       "<matplotlib.figure.Figure at 0x7f1b48541f10>"
      ]
     },
     "metadata": {},
     "output_type": "display_data"
    }
   ],
   "source": [
    "# TODO Double check this. Bit hacky\n",
    "texp_id = coll.distinct('exp_id')[-1]\n",
    "p22_training(texp_id,coll)"
   ]
  },
  {
   "cell_type": "markdown",
   "metadata": {},
   "source": [
    "### Plotting the validation results"
   ]
  },
  {
   "cell_type": "code",
   "execution_count": 8,
   "metadata": {
    "collapsed": false
   },
   "outputs": [
    {
     "ename": "UnboundLocalError",
     "evalue": "local variable 'val_steps' referenced before assignment",
     "output_type": "error",
     "traceback": [
      "\u001b[1;31m---------------------------------------------------------------------------\u001b[0m",
      "\u001b[1;31mUnboundLocalError\u001b[0m                         Traceback (most recent call last)",
      "\u001b[1;32m<ipython-input-8-036c37a86d98>\u001b[0m in \u001b[0;36m<module>\u001b[1;34m()\u001b[0m\n\u001b[1;32m----> 1\u001b[1;33m \u001b[0ml2_loss\u001b[0m\u001b[1;33m,\u001b[0m \u001b[0mimg_inputs\u001b[0m\u001b[1;33m,\u001b[0m \u001b[0mimg_prediction\u001b[0m \u001b[1;33m=\u001b[0m \u001b[0mget_validation_data\u001b[0m\u001b[1;33m(\u001b[0m\u001b[0mtexp_id\u001b[0m\u001b[1;33m,\u001b[0m \u001b[0mcoll\u001b[0m\u001b[1;33m)\u001b[0m\u001b[1;33m\u001b[0m\u001b[0m\n\u001b[0m\u001b[0;32m      2\u001b[0m \u001b[0mplot_l2_loss\u001b[0m\u001b[1;33m(\u001b[0m\u001b[0ml2_loss\u001b[0m\u001b[1;33m,\u001b[0m \u001b[0mtexp_id\u001b[0m\u001b[1;33m)\u001b[0m\u001b[1;33m\u001b[0m\u001b[0m\n\u001b[0;32m      3\u001b[0m \u001b[1;33m\u001b[0m\u001b[0m\n\u001b[0;32m      4\u001b[0m \u001b[0mnp_inputs\u001b[0m \u001b[1;33m=\u001b[0m \u001b[0mnp\u001b[0m\u001b[1;33m.\u001b[0m\u001b[0marray\u001b[0m\u001b[1;33m(\u001b[0m\u001b[0mimg_inputs\u001b[0m\u001b[1;33m)\u001b[0m\u001b[1;33m.\u001b[0m\u001b[0mtranspose\u001b[0m\u001b[1;33m(\u001b[0m\u001b[1;33m[\u001b[0m\u001b[1;36m0\u001b[0m\u001b[1;33m,\u001b[0m\u001b[1;36m2\u001b[0m\u001b[1;33m,\u001b[0m\u001b[1;36m3\u001b[0m\u001b[1;33m,\u001b[0m\u001b[1;36m4\u001b[0m\u001b[1;33m,\u001b[0m\u001b[1;36m1\u001b[0m\u001b[1;33m]\u001b[0m\u001b[1;33m)\u001b[0m\u001b[1;33m\u001b[0m\u001b[0m\n\u001b[0;32m      5\u001b[0m \u001b[0mnp_prediction\u001b[0m \u001b[1;33m=\u001b[0m \u001b[0mnp\u001b[0m\u001b[1;33m.\u001b[0m\u001b[0marray\u001b[0m\u001b[1;33m(\u001b[0m\u001b[0mimg_prediction\u001b[0m\u001b[1;33m)\u001b[0m\u001b[1;33m.\u001b[0m\u001b[0mtranspose\u001b[0m\u001b[1;33m(\u001b[0m\u001b[1;33m[\u001b[0m\u001b[1;36m0\u001b[0m\u001b[1;33m,\u001b[0m\u001b[1;36m2\u001b[0m\u001b[1;33m,\u001b[0m\u001b[1;36m3\u001b[0m\u001b[1;33m,\u001b[0m\u001b[1;36m4\u001b[0m\u001b[1;33m,\u001b[0m\u001b[1;36m1\u001b[0m\u001b[1;33m]\u001b[0m\u001b[1;33m)\u001b[0m\u001b[1;33m\u001b[0m\u001b[0m\n",
      "\u001b[1;32m/home/cocjinjb/cs375/2017/assignment2/assignment_utils.py\u001b[0m in \u001b[0;36mget_validation_data\u001b[1;34m(exp_id, coll, num)\u001b[0m\n\u001b[0;32m     59\u001b[0m \u001b[1;33m\u001b[0m\u001b[0m\n\u001b[0;32m     60\u001b[0m     \u001b[0mq_val\u001b[0m \u001b[1;33m=\u001b[0m \u001b[1;33m{\u001b[0m\u001b[1;34m'exp_id'\u001b[0m \u001b[1;33m:\u001b[0m \u001b[0mexp_id\u001b[0m\u001b[1;33m,\u001b[0m \u001b[1;34m'validation_results'\u001b[0m \u001b[1;33m:\u001b[0m \u001b[1;33m{\u001b[0m\u001b[1;34m'$exists'\u001b[0m \u001b[1;33m:\u001b[0m \u001b[0mTrue\u001b[0m\u001b[1;33m}\u001b[0m\u001b[1;33m,\u001b[0m \u001b[1;34m'validates'\u001b[0m \u001b[1;33m:\u001b[0m \u001b[1;33m{\u001b[0m\u001b[1;34m'$exists'\u001b[0m \u001b[1;33m:\u001b[0m \u001b[0mFalse\u001b[0m\u001b[1;33m}\u001b[0m\u001b[1;33m}\u001b[0m\u001b[1;33m\u001b[0m\u001b[0m\n\u001b[1;32m---> 61\u001b[1;33m     \u001b[0mmy_range\u001b[0m \u001b[1;33m=\u001b[0m \u001b[0mround\u001b[0m\u001b[1;33m(\u001b[0m\u001b[0mnp\u001b[0m\u001b[1;33m.\u001b[0m\u001b[0mlinspace\u001b[0m\u001b[1;33m(\u001b[0m\u001b[1;36m0\u001b[0m\u001b[1;33m,\u001b[0m \u001b[0mval_steps\u001b[0m\u001b[1;33m.\u001b[0m\u001b[0mcount\u001b[0m\u001b[1;33m(\u001b[0m\u001b[1;33m)\u001b[0m\u001b[1;33m,\u001b[0m \u001b[0mnum\u001b[0m\u001b[1;33m)\u001b[0m\u001b[1;33m)\u001b[0m\u001b[1;33m.\u001b[0m\u001b[0mtolist\u001b[0m\u001b[1;33m(\u001b[0m\u001b[1;33m)\u001b[0m\u001b[1;33m\u001b[0m\u001b[0m\n\u001b[0m\u001b[0;32m     62\u001b[0m     \u001b[0mval_steps\u001b[0m \u001b[1;33m=\u001b[0m \u001b[0mcoll\u001b[0m\u001b[1;33m.\u001b[0m\u001b[0mfind\u001b[0m\u001b[1;33m(\u001b[0m\u001b[0mq_val\u001b[0m\u001b[1;33m,\u001b[0m \u001b[0mprojection\u001b[0m \u001b[1;33m=\u001b[0m \u001b[1;33m[\u001b[0m\u001b[1;34m'validation_results'\u001b[0m\u001b[1;33m]\u001b[0m\u001b[1;33m)\u001b[0m\u001b[1;33m\u001b[0m\u001b[0m\n\u001b[0;32m     63\u001b[0m     l2_loss = [val_steps[i]['validation_results']['valid0']['l2_loss'] \n",
      "\u001b[1;31mUnboundLocalError\u001b[0m: local variable 'val_steps' referenced before assignment"
     ]
    }
   ],
   "source": [
    "l2_loss, img_inputs, img_prediction = get_validation_data(texp_id, coll)\n",
    "plot_l2_loss(l2_loss, texp_id)\n",
    "\n",
    "np_inputs = np.array(img_inputs).transpose([0,2,3,4,1])\n",
    "np_prediction = np.array(img_prediction).transpose([0,2,3,4,1])\n",
    "my_shape = np_inputs.shape"
   ]
  },
  {
   "cell_type": "code",
   "execution_count": null,
   "metadata": {
    "collapsed": false
   },
   "outputs": [],
   "source": [
    "np_prediction.shape"
   ]
  },
  {
   "cell_type": "code",
   "execution_count": null,
   "metadata": {
    "collapsed": false
   },
   "outputs": [],
   "source": [
    "np_inputs.shape"
   ]
  },
  {
   "cell_type": "code",
   "execution_count": null,
   "metadata": {
    "collapsed": true
   },
   "outputs": [],
   "source": [
    "from matplotlib.pyplot import figure, imshow, axis\n",
    "from matplotlib.image import imread\n"
   ]
  },
  {
   "cell_type": "code",
   "execution_count": null,
   "metadata": {
    "collapsed": false
   },
   "outputs": [],
   "source": [
    "def show_row(in_row, num_show = None):\n",
    "    if num_show is None:\n",
    "        num_show = len(in_row)\n",
    "    fig = figure(figsize = [20, 6])\n",
    "    for i in range(num_show):\n",
    "        a = fig.add_subplot(1,num_show, i+1)\n",
    "        a.get_xaxis().set_visible(False)\n",
    "        a.get_yaxis().set_visible(False)\n",
    "        imshow(in_row[:,:,:,i])"
   ]
  },
  {
   "cell_type": "code",
   "execution_count": null,
   "metadata": {
    "collapsed": false
   },
   "outputs": [],
   "source": [
    "show_row(np_inputs[-1,:].squeeze(), 5)"
   ]
  },
  {
   "cell_type": "code",
   "execution_count": null,
   "metadata": {
    "collapsed": false
   },
   "outputs": [],
   "source": [
    "show_row(np_prediction[-2,:].squeeze(), 5)"
   ]
  },
  {
   "cell_type": "markdown",
   "metadata": {},
   "source": [
    "## Part 2: Representational Similararity Analysis (RSA)\n"
   ]
  },
  {
   "cell_type": "code",
   "execution_count": null,
   "metadata": {
    "collapsed": false
   },
   "outputs": [],
   "source": [
    "data = {}\n",
    "for iv in v_list:\n",
    "    for istep in step_list:\n",
    "        data[(iv, istep)] = p_get_data_list(coll, collname, istep, iv)"
   ]
  },
  {
   "cell_type": "markdown",
   "metadata": {},
   "source": [
    "### Analyzing the RDM results\n",
    "\n",
    "We will start with visualizing the RDMs we computed for each layer and the IT neurons. "
   ]
  },
  {
   "cell_type": "code",
   "execution_count": null,
   "metadata": {
    "collapsed": false
   },
   "outputs": [],
   "source": [
    "for istep in step_list:\n",
    "    plot_rdms(data[('V6',istep)], target_layers, istep)"
   ]
  },
  {
   "cell_type": "code",
   "execution_count": null,
   "metadata": {
    "collapsed": false
   },
   "outputs": [],
   "source": [
    "for istep in step_list:\n",
    "    plot_rdms(data[('V0V3V6',istep)], target_layers, istep)"
   ]
  },
  {
   "cell_type": "markdown",
   "metadata": {},
   "source": [
    "### Analyzing the categorization results\n",
    "\n",
    "Now let's visualize the results of the categorization and within categorization test we performed for each layer. Describe what you see.    "
   ]
  },
  {
   "cell_type": "code",
   "execution_count": null,
   "metadata": {
    "collapsed": false
   },
   "outputs": [],
   "source": [
    "for istep in step_list:\n",
    "    plot_categorization_results(data[('V6',istep)], target_layers, istep)"
   ]
  },
  {
   "cell_type": "code",
   "execution_count": null,
   "metadata": {
    "collapsed": false
   },
   "outputs": [],
   "source": [
    "for istep in step_list:\n",
    "    plot_categorization_results(data[('V0V3V6',istep)], target_layers, istep)"
   ]
  },
  {
   "cell_type": "code",
   "execution_count": null,
   "metadata": {
    "collapsed": false
   },
   "outputs": [],
   "source": [
    "categories = ['Animals', 'Boats', 'Cars', 'Chairs', 'Faces', 'Fruits', 'Planes', 'Tables']\n",
    "for category in categories:\n",
    "    for istep in step_list:\n",
    "        plot_categorization_results(data[('V6',istep)], target_layers, istep, category=category)"
   ]
  },
  {
   "cell_type": "code",
   "execution_count": null,
   "metadata": {
    "collapsed": false
   },
   "outputs": [],
   "source": [
    "categories = ['Animals', 'Boats', 'Cars', 'Chairs', 'Faces', 'Fruits', 'Planes', 'Tables']\n",
    "for category in categories:\n",
    "    for istep in step_list:\n",
    "        plot_categorization_results(data[('V0V3V6',istep)], target_layers, istep, category=category)"
   ]
  },
  {
   "cell_type": "markdown",
   "metadata": {},
   "source": [
    "### Continuous estimation results\n",
    "We regress our activations against the 'ty' continuous variable. "
   ]
  },
  {
   "cell_type": "code",
   "execution_count": null,
   "metadata": {
    "collapsed": false
   },
   "outputs": [],
   "source": [
    "print(\"Continuous Estimation Task for ty \\n\")\n",
    "for istep in step_list:\n",
    "    for layer in target_layers:\n",
    "        print('step: '+str(istep) + ', ' + layer + \":\")\n",
    "        print(data[('V6',istep)]['continuous_' + layer])\n",
    "        print(\"\")"
   ]
  },
  {
   "cell_type": "code",
   "execution_count": null,
   "metadata": {
    "collapsed": false
   },
   "outputs": [],
   "source": [
    "print(\"Continuous Estimation Task for ty \\n\")\n",
    "for istep in step_list:\n",
    "    for layer in target_layers:\n",
    "        print('step: '+str(istep) + ', ' + layer + \":\")\n",
    "        print(data[('V0V3V6',istep)]['continuous_' + layer])\n",
    "        print(\"\")"
   ]
  },
  {
   "cell_type": "markdown",
   "metadata": {},
   "source": [
    "## Part 3: Neural Response Regression\n",
    "\n",
    "We will now display the results of the regression test. \n",
    "\n",
    "Please print (1 - data['it\\_regression_\"insert_target_layer_here\"']['noise_corrected_multi_rsquared_loss']) for each layer and step and label the print out with the layer name and step. Describe what you observe.    \n"
   ]
  },
  {
   "cell_type": "code",
   "execution_count": null,
   "metadata": {
    "collapsed": false
   },
   "outputs": [],
   "source": [
    "for istep in step_list:\n",
    "    plot_regression_results(data[('V6',istep)], target_layers, istep)"
   ]
  },
  {
   "cell_type": "code",
   "execution_count": null,
   "metadata": {
    "collapsed": false
   },
   "outputs": [],
   "source": [
    "for istep in step_list:\n",
    "    plot_regression_results(data[('V0V3V6',istep)], target_layers, istep)"
   ]
  },
  {
   "cell_type": "markdown",
   "metadata": {},
   "source": [
    "## Part 4: Filter Visualization Evaluations\n",
    "\n",
    "Lastly, we will plot the conv1 filter kernels. \n",
    "\n",
    "###TODO THIS SHOULD BE FOR EACH TRAINING TIMEPOINT"
   ]
  },
  {
   "cell_type": "code",
   "execution_count": null,
   "metadata": {
    "collapsed": false
   },
   "outputs": [],
   "source": [
    "for istep in step_list:\n",
    "    plot_conv1_kernels(data[('V0V3V6',istep)], istep)"
   ]
  },
  {
   "cell_type": "markdown",
   "metadata": {},
   "source": [
    "## Part 5: Evaluation of the unsupervised models on ImageNet"
   ]
  },
  {
   "cell_type": "code",
   "execution_count": null,
   "metadata": {
    "collapsed": true
   },
   "outputs": [],
   "source": []
  }
 ],
 "metadata": {
  "kernelspec": {
   "display_name": "Python 2",
   "language": "python",
   "name": "python2"
  },
  "language_info": {
   "codemirror_mode": {
    "name": "ipython",
    "version": 2
   },
   "file_extension": ".py",
   "mimetype": "text/x-python",
   "name": "python",
   "nbconvert_exporter": "python",
   "pygments_lexer": "ipython2",
   "version": "2.7.12"
  }
 },
 "nbformat": 4,
 "nbformat_minor": 2
}
