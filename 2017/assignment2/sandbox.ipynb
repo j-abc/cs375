{
 "cells": [
  {
   "cell_type": "code",
   "execution_count": 3,
   "metadata": {
    "collapsed": false
   },
   "outputs": [
    {
     "name": "stdout",
     "output_type": "stream",
     "text": [
      "{'model_params': {'func': <function colorful_model at 0x7feec2da42a8>}, 'loss_params': {'loss_func_kwargs': {}, 'loss_per_case_func': <function colorful_loss at 0x7feec2da40c8>, 'agg_func': <function reduce_mean at 0x7feed7afe578>, 'targets': ['labels'], 'loss_per_case_func_params': {'_targets_$all': 'inputs', '_outputs': 'outputs'}}, 'optimizer_params': {'momentum': 0.9, 'clip': False, 'func': <class 'tfutils.optimizer.ClipOptimizer'>, 'optimizer_class': <class 'tensorflow.python.training.momentum.MomentumOptimizer'>}, 'load_params': {'do_restore': True, 'collname': 'colorful_model_default', 'dbname': 'cifar10', 'host': 'localhost', 'exp_id': 'testrun', 'load_query': None, 'port': 24444}, 'save_params': {'save_valid_freq': 10000, 'save_initial_filters': False, 'save_metrics_freq': 200, 'host': 'localhost', 'exp_id': 'testrun', 'save_filters_freq': 30000, 'cache_filters_freq': 50000, 'collname': 'colorful_model_default', 'dbname': 'cifar10', 'save_to_gfs': [], 'port': 24444}, 'learning_rate_params': {'boundaries': [150000, 300000, 450000], 'values': [0.01, 0.005, 0.001, 0.0005], 'func': <function piecewise_constant_wrapper at 0x7feeb91c3ed8>}, 'validation_params': {'valid0': {'data_params': {'group': 'val', 'n_threads': 4, 'func': <class 'dataprovider.CIFAR10DataProvider'>, 'shuffle_seed': 6, 'shuffle': False, 'data_path': '/datasets/cifar10/tfrecords', 'file_pattern': 'test*.tfrecords', 'batch_size': 256, 'crop_size': 24}}}, 'train_params': {'data_params': {'group': 'train', 'n_threads': 4, 'func': <class 'dataprovider.CIFAR10DataProvider'>, 'shuffle_seed': 6, 'shuffle': False, 'data_path': '/datasets/cifar10/tfrecords', 'file_pattern': 'train*.tfrecords', 'batch_size': 256, 'crop_size': 24}, 'num_steps': 11700, 'thres_loss': 1000000000000000, 'validate_first': False, 'targets': {'targets': [], 'func': <bound method cifar10.return_outputs of <experiments.cifar10 instance at 0x7feeb91d7248>>}, 'queue_params': {'queue_type': 'random', 'seed': 6, 'capacity': 2560, 'min_after_dequeue': 1280, 'batch_size': 256}}}\n"
     ]
    }
   ],
   "source": [
    "from model_switcher import *\n",
    "\n",
    "'''\n",
    "this thing gon run it all\n",
    "'''\n",
    "# extract inputs\n",
    "model_name   = 'colorful_model'\n",
    "data_name    = 'cifar10'\n",
    "loss_name    = 'default'\n",
    "exp_id       = 'testrun'\n",
    "run_now      = False\n",
    "\n",
    "# specify the model\n",
    "my_model   = model_switcher(model_name = model_name, \n",
    "                          data_name = data_name, \n",
    "                          loss_name = loss_name, \n",
    "                          exp_id = exp_id)\n",
    "\n",
    "# yes i know this is a little janky, it's late rn\n",
    "experiment = my_model.exp_fn(my_model, my_model.exp_id)\n",
    "params = experiment.setup_params()\n",
    "\n",
    "# let's check our parameters for sanity\n",
    "if run_now:\n",
    "    base.get_params\n",
    "    base.train_from_params(**params)\n",
    "else:\n",
    "    print(params)"
   ]
  },
  {
   "cell_type": "code",
   "execution_count": 4,
   "metadata": {
    "collapsed": false
   },
   "outputs": [
    {
     "data": {
      "text/plain": [
       "'colorful_model_default'"
      ]
     },
     "execution_count": 4,
     "metadata": {},
     "output_type": "execute_result"
    }
   ],
   "source": [
    "my_model.collname"
   ]
  },
  {
   "cell_type": "code",
   "execution_count": null,
   "metadata": {
    "collapsed": true
   },
   "outputs": [],
   "source": []
  },
  {
   "cell_type": "code",
   "execution_count": null,
   "metadata": {
    "collapsed": true
   },
   "outputs": [],
   "source": []
  }
 ],
 "metadata": {
  "kernelspec": {
   "display_name": "Python 2",
   "language": "python",
   "name": "python2"
  },
  "language_info": {
   "codemirror_mode": {
    "name": "ipython",
    "version": 2
   },
   "file_extension": ".py",
   "mimetype": "text/x-python",
   "name": "python",
   "nbconvert_exporter": "python",
   "pygments_lexer": "ipython2",
   "version": "2.7.12"
  }
 },
 "nbformat": 4,
 "nbformat_minor": 0
}
