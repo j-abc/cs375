{
 "cells": [
  {
   "cell_type": "code",
   "execution_count": 19,
   "metadata": {
    "collapsed": false
   },
   "outputs": [],
   "source": [
    "import os\n",
    "import numpy as np\n",
    "import tensorflow as tf"
   ]
  },
  {
   "cell_type": "code",
   "execution_count": 20,
   "metadata": {
    "collapsed": false
   },
   "outputs": [],
   "source": [
    "from models import *"
   ]
  },
  {
   "cell_type": "code",
   "execution_count": 48,
   "metadata": {
    "collapsed": true
   },
   "outputs": [],
   "source": [
    "from tfutils import base"
   ]
  },
  {
   "cell_type": "code",
   "execution_count": null,
   "metadata": {
    "collapsed": true
   },
   "outputs": [],
   "source": [
    "base."
   ]
  },
  {
   "cell_type": "code",
   "execution_count": 21,
   "metadata": {
    "collapsed": false
   },
   "outputs": [
    {
     "ename": "SyntaxError",
     "evalue": "invalid syntax (<ipython-input-21-bf6d733696f3>, line 20)",
     "output_type": "error",
     "traceback": [
      "\u001b[1;36m  File \u001b[1;32m\"<ipython-input-21-bf6d733696f3>\"\u001b[1;36m, line \u001b[1;32m20\u001b[0m\n\u001b[1;33m    ksize=, 5, 1, layer = 'deconv1')\u001b[0m\n\u001b[1;37m          ^\u001b[0m\n\u001b[1;31mSyntaxError\u001b[0m\u001b[1;31m:\u001b[0m invalid syntax\n"
     ]
    }
   ],
   "source": [
    "def shallow_bottle(inputs, train = True, norm = True, **kwargs):\n",
    "    # propagate input targets\n",
    "    outputs = inputs\n",
    "#     dropout = 0.5 if train else None\n",
    "    \n",
    "    \n",
    "    # create the encoder\n",
    "    outputs['conv1'], outputs['conv1_kernel'] = conv(outputs['images'], \n",
    "                                                     64, \n",
    "                                                     ksize=7, \n",
    "                                                     strides=11, \n",
    "                                                     padding = 'SAME', \n",
    "                                                     layer = 'conv1')\n",
    "    \n",
    "    \n",
    "    # create the decoder\n",
    "    out_shape = tf.stack([tf.shape(outputs['image'])[0], shape[1], shape[2], shape[3]])\n",
    "    outputs['deconv1'], outputs['deconv1_kernel'] = conv(outputs['conv1'], \n",
    "                                                                         \n",
    "                                                         ksize=, 5, 1, layer = 'deconv1')\n",
    "    return outputs, {}"
   ]
  },
  {
   "cell_type": "code",
   "execution_count": 22,
   "metadata": {
    "collapsed": false
   },
   "outputs": [
    {
     "data": {
      "text/plain": [
       "<function tensorflow.python.ops.nn_ops.conv2d_transpose>"
      ]
     },
     "execution_count": 22,
     "metadata": {},
     "output_type": "execute_result"
    }
   ],
   "source": [
    "tf.nn.conv2d_transpose"
   ]
  },
  {
   "cell_type": "code",
   "execution_count": 27,
   "metadata": {
    "collapsed": true
   },
   "outputs": [],
   "source": [
    "def conv(inp,\n",
    "         out_depth,\n",
    "         ksize=[3,3],\n",
    "         strides=[1,1,1,1],\n",
    "         padding='SAME',\n",
    "         kernel_init='xavier',\n",
    "         kernel_init_kwargs=None,\n",
    "         bias=0,\n",
    "         weight_decay=None,\n",
    "         activation='relu',\n",
    "         batch_norm=False,\n",
    "         name='conv',\n",
    "         layer = None,\n",
    "         ):\n",
    "    with tf.variable_scope(layer):\n",
    "        # assert out_shape is not None\n",
    "        if weight_decay is None:\n",
    "            weight_decay = 0.\n",
    "        if isinstance(ksize, int):\n",
    "            ksize = [ksize, ksize]\n",
    "            \n",
    "        if isinstance(strides, int):\n",
    "            strides = [1, strides, strides, 1]            \n",
    "            \n",
    "        if kernel_init_kwargs is None:\n",
    "            kernel_init_kwargs = {}\n",
    "        in_depth = inp.get_shape().as_list()[-1]\n",
    "\n",
    "        # weights\n",
    "        init = initializer(kernel_init, **kernel_init_kwargs)\n",
    "\n",
    "        kernel = tf.get_variable(initializer=init,\n",
    "                                shape=[ksize[0], ksize[1], in_depth, out_depth],\n",
    "                                dtype=tf.float32,\n",
    "                                regularizer=tf.contrib.layers.l2_regularizer(weight_decay),\n",
    "                                name='weights')\n",
    "        init = initializer(kind='constant', value=bias)\n",
    "        biases = tf.get_variable(initializer=init,\n",
    "                                shape=[out_depth],\n",
    "                                dtype=tf.float32,\n",
    "                                regularizer=tf.contrib.layers.l2_regularizer(weight_decay),\n",
    "                                name='bias')\n",
    "        # ops\n",
    "        conv = tf.nn.conv2d(inp, kernel,\n",
    "                            strides=strides,\n",
    "                            padding=padding)\n",
    "        output = tf.nn.bias_add(conv, biases, name=name)\n",
    "\n",
    "        if activation is not None:\n",
    "            output = getattr(tf.nn, activation)(output, name=activation)\n",
    "        if batch_norm:\n",
    "            output = tf.nn.batch_normalization(output, mean=0, variance=1, offset=None,\n",
    "                                scale=None, variance_epsilon=1e-8, name='batch_norm')\n",
    "    return output, kernel"
   ]
  },
  {
   "cell_type": "code",
   "execution_count": 31,
   "metadata": {
    "collapsed": true
   },
   "outputs": [],
   "source": [
    "def deconv(inp, \n",
    "           out_shape, \n",
    "           ksize = [3,3],\n",
    "           strides = [1,1,1,1],\n",
    "           padding = 'SAME',\n",
    "           kernel_init = 'xavier',\n",
    "           kernel_init_kwargs = None,\n",
    "           bias = 0, \n",
    "           weight_decay = None,\n",
    "           batch_norm = False,\n",
    "           name = 'deconv', \n",
    "           layer = None,\n",
    "           dilation = 1):\n",
    "\n",
    "    with tf.variable_scope(layer):\n",
    "        # assert out_shape is not None\n",
    "        if weight_decay is None:\n",
    "            weight_decay = 0.\n",
    "        if isinstance(ksize, int):\n",
    "            ksize = [ksize, ksize]\n",
    "        if isinstance(strides, int):\n",
    "            strides = [1, strides, strides, 1]   \n",
    "        if kernel_init_kwargs is None:\n",
    "            kernel_init_kwargs = {}            \n",
    "\n",
    "        # define convolutional kernel and bias\n",
    "        init = initializer(kernel_init, **kernel_init_kwargs)        \n",
    "        kernel = tf.get_variable(initializer=init,\n",
    "                                shape=[ksize[0], ksize[1], out_shape[-1], in_depth]        ,\n",
    "                                dtype=tf.float32,\n",
    "                                regularizer=tf.contrib.layers.l2_regularizer(weight_decay),\n",
    "                                name='weights')\n",
    "        init = initializer(kind='constant', value=bias)\n",
    "        biases = tf.get_variable(initializer=init,\n",
    "                                shape=[out_depth],\n",
    "                                dtype=tf.float32,\n",
    "                                regularizer=tf.contrib.layers.l2_regularizer(weight_decay),\n",
    "                                name='bias')\n",
    "\n",
    "        # feed into our deconvolution\n",
    "        deconv = tf.nn.conv2d_transpose(inp, kernel, out_shape, \n",
    "                                        strides = strides, \n",
    "                                        padding = padding)\n",
    "        output = tf.nn.bias_add(deconv, biases, name=name)\n",
    "        if batch_norm:\n",
    "            output = tf.nn.batch_normalization(output, mean=0, variance=1, offset=None,\n",
    "                                scale=None, variance_epsilon=1e-8, name='batch_norm')    \n",
    "    return output, kernel"
   ]
  },
  {
   "cell_type": "code",
   "execution_count": 30,
   "metadata": {
    "collapsed": true
   },
   "outputs": [],
   "source": []
  },
  {
   "cell_type": "code",
   "execution_count": 36,
   "metadata": {
    "collapsed": false
   },
   "outputs": [],
   "source": [
    "from keras.models import Model\n",
    "from keras.layers import Input, Dense"
   ]
  },
  {
   "cell_type": "code",
   "execution_count": 47,
   "metadata": {
    "collapsed": false
   },
   "outputs": [
    {
     "data": {
      "text/plain": [
       "'model_7'"
      ]
     },
     "execution_count": 47,
     "metadata": {},
     "output_type": "execute_result"
    }
   ],
   "source": [
    "a = Input(shape=(32,), name = 'test')\n",
    "b = Dense(32, name = 'test2')(a)\n",
    "c = Dense(32, name = 'test2')()\n",
    "model = Model(inputs=a, outputs=b)\n",
    "model.name"
   ]
  },
  {
   "cell_type": "code",
   "execution_count": null,
   "metadata": {
    "collapsed": true
   },
   "outputs": [],
   "source": []
  }
 ],
 "metadata": {
  "kernelspec": {
   "display_name": "Python 2",
   "language": "python",
   "name": "python2"
  },
  "language_info": {
   "codemirror_mode": {
    "name": "ipython",
    "version": 2
   },
   "file_extension": ".py",
   "mimetype": "text/x-python",
   "name": "python",
   "nbconvert_exporter": "python",
   "pygments_lexer": "ipython2",
   "version": "2.7.12"
  }
 },
 "nbformat": 4,
 "nbformat_minor": 0
}
