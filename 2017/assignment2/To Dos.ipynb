{
 "cells": [
  {
   "cell_type": "markdown",
   "metadata": {},
   "source": [
    "TODOs\n",
    "\n",
    "\n",
    "# NETWORK TRAINING\n",
    "- shallow bottleneck convolutional autoencoder model - JOHN\n",
    "- A pooled version of the above - JOHN\n",
    "- Sparse version of the shallow bottleneck conv autoencoder model - JOHN\n",
    "- Sparse version of the pooled version - JOHN\n",
    "- A deep symmetric convolutional autoencoder - RAMON \n",
    "- A Variational Autoencoder - RAMON\n",
    "- The Colorful Image Colorization network - RAMON\n",
    "\n",
    "\n",
    "- Train all of the above on CIFAR-10 - ALL\n",
    "- Train two of the above on ImageNet, including colorful network - ALL\n",
    "\n",
    "# NETWORK EVALUATION\n",
    "-  for each of several time points during training, as well as the final trained point, perform: - SOPHIA\n",
    "    - the task generalization\n",
    "    - RSA\n",
    "    - neural fitting\n",
    "    - filter visualization evaluations\n",
    "- add an evaluation of the unsupervised models on ImageNet - SOPHIA\n",
    "    - for each encoding layer of the trained autoencoders above, train a linear classifier from the features at that layer to solve Imagenet5 To compare this result to a strong baseline, compare to validation performances on the AlexNet you trained in Assignment 1"
   ]
  },
  {
   "cell_type": "code",
   "execution_count": null,
   "metadata": {
    "collapsed": true
   },
   "outputs": [],
   "source": []
  }
 ],
 "metadata": {
  "kernelspec": {
   "display_name": "Python 2",
   "language": "python",
   "name": "python2"
  },
  "language_info": {
   "codemirror_mode": {
    "name": "ipython",
    "version": 2
   },
   "file_extension": ".py",
   "mimetype": "text/x-python",
   "name": "python",
   "nbconvert_exporter": "python",
   "pygments_lexer": "ipython2",
   "version": "2.7.12"
  }
 },
 "nbformat": 4,
 "nbformat_minor": 0
}
