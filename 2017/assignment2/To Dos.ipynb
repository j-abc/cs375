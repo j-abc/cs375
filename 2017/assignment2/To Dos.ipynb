{
 "cells": [
  {
   "cell_type": "markdown",
   "metadata": {},
   "source": [
    "TODOs\n",
    "\n",
    "# THE FINAL COUNTDOWN\n",
    "- validate varys and port over to our code\n",
    "- generalize our notebooks to show all encoders\n",
    "- rerun test.py with v0v3v6 (code should already be there)\n",
    "- add in linear regression (top-1 accuracy (%))\n",
    "- double check if it's adding to dictionary or replacing\n",
    "- get colorful to work\n",
    "- \n",
    "\n",
    "\n",
    "\n",
    "# NETWORK TRAINING\n",
    "- shallow bottleneck convolutional autoencoder model - JOHN (x)\n",
    "- A pooled version of the above - JOHN (x)\n",
    "- Sparse version of the shallow bottleneck conv autoencoder model - JOHN (x)\n",
    "- Sparse version of the pooled version - JOHN (x)\n",
    "- A deep symmetric convolutional autoencoder - JOHN (x)\n",
    "- A Variational Autoencoder - RAMON \n",
    "- The Colorful Image Colorization network - RAMON\n",
    "    - check if this works - SOPHIA\n",
    "\n",
    "- Train all of the above on CIFAR-10 - ALL  (overnight)\n",
    "- Train two of the above on ImageNet, including colorful network - ALL (overnight)\n",
    "\n",
    "# NETWORK EVALUATION\n",
    "-  for each of several time points during training, as well as the final trained point, perform: - SOPHIA\n",
    "    - the task generalization - MOSTLY DONE\n",
    "    - RSA - MOSTLY DONE\n",
    "    - neural fitting - NEEDS WORK\n",
    "    - filter visualization evaluations - MOSTLY DONE\n",
    "- add an evaluation of the unsupervised models on ImageNet - SOPHIA\n",
    "\n",
    "    - for each encoding layer of the trained autoencoders above, train a linear classifier from the features at that layer to solve Imagenet5 To compare this result to a strong baseline, compare to validation performances on the AlexNet you trained in Assignment 1\n",
    "    \n",
    "     - Run a small imagenet for sophia to work with\n",
    "     - Linear \n",
    "     \n",
    "### Evaluation To Do's as of 10/31\n",
    "- Run everything with V0V3V6 and add these analyses back into the notebook\n",
    "- Fix neural fitting code with Damian's response\n",
    "- Do linear classifier\n",
    "- Think through how to do things in steps\n",
    "- General notebook cleanup...\n",
    "- Run all analyses with all autoencoders? cifar with everything, 2 of the nets with imagenet (INCL COLORFUL)"
   ]
  },
  {
   "cell_type": "code",
   "execution_count": null,
   "metadata": {
    "collapsed": true
   },
   "outputs": [],
   "source": []
  }
 ],
 "metadata": {
  "kernelspec": {
   "display_name": "Python 2",
   "language": "python",
   "name": "python2"
  },
  "language_info": {
   "codemirror_mode": {
    "name": "ipython",
    "version": 2
   },
   "file_extension": ".py",
   "mimetype": "text/x-python",
   "name": "python",
   "nbconvert_exporter": "python",
   "pygments_lexer": "ipython2",
   "version": "2.7.12"
  }
 },
 "nbformat": 4,
 "nbformat_minor": 0
}
